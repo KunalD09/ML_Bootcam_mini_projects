{
 "cells": [
  {
   "cell_type": "markdown",
   "metadata": {
    "application/vnd.databricks.v1+cell": {
     "inputWidgets": {},
     "nuid": "89e978b6-ef69-4bfe-b7bb-567a8664d3e3",
     "showTitle": false,
     "title": ""
    }
   },
   "source": [
    "SQL at Scale with Spark SQL\n",
    "Welcome to the SQL mini project. For this project, you will use the Databricks Platform and work through a series of exercises using Spark SQL. The dataset size may not be too big but the intent here is to familiarize yourself with the Spark SQL interface which scales easily to huge datasets, without you having to worry about changing your SQL queries.\n",
    "\n",
    "The data you need is present in the mini-project folder in the form of three CSV files. This data will be imported in Databricks to create the following tables under the country_club database.\n",
    "\n",
    "\n",
    "1. The __`bookings`__ table, 2. The __`facilities`__ table, and 3. The __`members`__ table.\n",
    "You will be uploading these datasets shortly into the Databricks platform to understand how to create a database within minutes! Once the database and the tables are populated, you will be focusing on the mini-project questions.\n",
    "\n",
    "In the mini project, you'll be asked a series of questions. You can solve them using the databricks platform, but for the final deliverable, please download this notebook as an IPython notebook (File -> Export -> IPython Notebook) and upload it to your GitHub."
   ]
  },
  {
   "cell_type": "code",
   "execution_count": 0,
   "metadata": {
    "application/vnd.databricks.v1+cell": {
     "inputWidgets": {},
     "nuid": "896ba04b-b3f2-4d9f-81d5-1b792dba4c61",
     "showTitle": false,
     "title": ""
    }
   },
   "outputs": [
    {
     "data": {
      "text/html": [
       "<style scoped>\n",
       "  .table-result-container {\n",
       "    max-height: 300px;\n",
       "    overflow: auto;\n",
       "  }\n",
       "  table, th, td {\n",
       "    border: 1px solid black;\n",
       "    border-collapse: collapse;\n",
       "  }\n",
       "  th, td {\n",
       "    padding: 5px;\n",
       "  }\n",
       "  th {\n",
       "    text-align: left;\n",
       "  }\n",
       "</style><div class='table-result-container'><table class='table-result'><thead style='background-color: white'><tr><th>databaseName</th></tr></thead><tbody><tr><td>country_club</td></tr><tr><td>default</td></tr></tbody></table></div>"
      ]
     },
     "metadata": {
      "application/vnd.databricks.v1+output": {
       "addedWidgets": {},
       "aggData": [],
       "aggError": "",
       "aggOverflow": false,
       "aggSchema": [],
       "aggSeriesLimitReached": false,
       "aggType": "",
       "arguments": {},
       "columnCustomDisplayInfos": {},
       "data": [
        [
         "country_club"
        ],
        [
         "default"
        ]
       ],
       "datasetInfos": [],
       "dbfsResultPath": null,
       "isJsonSchema": true,
       "metadata": {
        "isDbfsCommandResult": false
       },
       "overflow": false,
       "plotOptions": {
        "customPlotOptions": {},
        "displayType": "table",
        "pivotAggregation": null,
        "pivotColumns": null,
        "xColumns": null,
        "yColumns": null
       },
       "removedWidgets": [],
       "schema": [
        {
         "metadata": "{}",
         "name": "databaseName",
         "type": "\"string\""
        }
       ],
       "type": "table"
      }
     },
     "output_type": "display_data"
    }
   ],
   "source": [
    "%sql \n",
    "drop database if exists country_club cascade;\n",
    "create database country_club;\n",
    "show databases;"
   ]
  },
  {
   "cell_type": "code",
   "execution_count": 0,
   "metadata": {
    "application/vnd.databricks.v1+cell": {
     "inputWidgets": {},
     "nuid": "b8f389f3-3ca4-4d35-9097-ccb7b99d5a10",
     "showTitle": false,
     "title": ""
    }
   },
   "outputs": [
    {
     "data": {
      "text/html": [
       "<style scoped>\n",
       "  .ansiout {\n",
       "    display: block;\n",
       "    unicode-bidi: embed;\n",
       "    white-space: pre-wrap;\n",
       "    word-wrap: break-word;\n",
       "    word-break: break-all;\n",
       "    font-family: \"Source Code Pro\", \"Menlo\", monospace;;\n",
       "    font-size: 13px;\n",
       "    color: #555;\n",
       "    margin-left: 4px;\n",
       "    line-height: 19px;\n",
       "  }\n",
       "</style>\n",
       "<div class=\"ansiout\"></div>"
      ]
     },
     "metadata": {
      "application/vnd.databricks.v1+output": {
       "addedWidgets": {},
       "arguments": {},
       "data": "<div class=\"ansiout\"></div>",
       "datasetInfos": [],
       "metadata": {},
       "removedWidgets": [],
       "type": "html"
      }
     },
     "output_type": "display_data"
    }
   ],
   "source": [
    "# File location and type\n",
    "file_location_bookings = \"/FileStore/tables/Bookings.csv\"\n",
    "file_location_facilities = \"/FileStore/tables/Facilities.csv\"\n",
    "file_location_members = \"/FileStore/tables/Members.csv\"\n",
    "\n",
    "file_type = \"csv\"\n",
    "\n",
    "# CSV options\n",
    "infer_schema = \"true\"\n",
    "first_row_is_header = \"true\"\n",
    "delimiter = \",\"\n",
    "\n",
    "# The applied options are for CSV files. For other file types, these will be ignored.\n",
    "bookings_df = (spark.read.format(file_type) \n",
    "                    .option(\"inferSchema\", infer_schema) \n",
    "                    .option(\"header\", first_row_is_header) \n",
    "                    .option(\"sep\", delimiter) \n",
    "                    .load(file_location_bookings))\n",
    "\n",
    "facilities_df = (spark.read.format(file_type) \n",
    "                      .option(\"inferSchema\", infer_schema) \n",
    "                      .option(\"header\", first_row_is_header) \n",
    "                      .option(\"sep\", delimiter) \n",
    "                      .load(file_location_facilities))\n",
    "\n",
    "members_df = (spark.read.format(file_type) \n",
    "                      .option(\"inferSchema\", infer_schema) \n",
    "                      .option(\"header\", first_row_is_header) \n",
    "                      .option(\"sep\", delimiter) \n",
    "                      .load(file_location_members))"
   ]
  },
  {
   "cell_type": "code",
   "execution_count": 0,
   "metadata": {
    "application/vnd.databricks.v1+cell": {
     "inputWidgets": {},
     "nuid": "ca6ac734-478c-416d-8d3b-3bb2a8e4202f",
     "showTitle": false,
     "title": ""
    }
   },
   "outputs": [
    {
     "data": {
      "text/html": [
       "<style scoped>\n",
       "  .ansiout {\n",
       "    display: block;\n",
       "    unicode-bidi: embed;\n",
       "    white-space: pre-wrap;\n",
       "    word-wrap: break-word;\n",
       "    word-break: break-all;\n",
       "    font-family: \"Source Code Pro\", \"Menlo\", monospace;;\n",
       "    font-size: 13px;\n",
       "    color: #555;\n",
       "    margin-left: 4px;\n",
       "    line-height: 19px;\n",
       "  }\n",
       "</style>\n",
       "<div class=\"ansiout\">Bookings Schema\n",
       "root\n",
       "-- bookid: integer (nullable = true)\n",
       "-- facid: integer (nullable = true)\n",
       "-- memid: integer (nullable = true)\n",
       "-- starttime: string (nullable = true)\n",
       "-- slots: integer (nullable = true)\n",
       "\n",
       "Facilities Schema\n",
       "root\n",
       "-- facid: integer (nullable = true)\n",
       "-- name: string (nullable = true)\n",
       "-- membercost: double (nullable = true)\n",
       "-- guestcost: double (nullable = true)\n",
       "-- initialoutlay: integer (nullable = true)\n",
       "-- monthlymaintenance: integer (nullable = true)\n",
       "\n",
       "Members Schema\n",
       "root\n",
       "-- memid: integer (nullable = true)\n",
       "-- surname: string (nullable = true)\n",
       "-- firstname: string (nullable = true)\n",
       "-- address: string (nullable = true)\n",
       "-- zipcode: integer (nullable = true)\n",
       "-- telephone: string (nullable = true)\n",
       "-- recommendedby: integer (nullable = true)\n",
       "-- joindate: string (nullable = true)\n",
       "\n",
       "</div>"
      ]
     },
     "metadata": {
      "application/vnd.databricks.v1+output": {
       "addedWidgets": {},
       "arguments": {},
       "data": "<div class=\"ansiout\">Bookings Schema\nroot\n |-- bookid: integer (nullable = true)\n |-- facid: integer (nullable = true)\n |-- memid: integer (nullable = true)\n |-- starttime: string (nullable = true)\n |-- slots: integer (nullable = true)\n\nFacilities Schema\nroot\n |-- facid: integer (nullable = true)\n |-- name: string (nullable = true)\n |-- membercost: double (nullable = true)\n |-- guestcost: double (nullable = true)\n |-- initialoutlay: integer (nullable = true)\n |-- monthlymaintenance: integer (nullable = true)\n\nMembers Schema\nroot\n |-- memid: integer (nullable = true)\n |-- surname: string (nullable = true)\n |-- firstname: string (nullable = true)\n |-- address: string (nullable = true)\n |-- zipcode: integer (nullable = true)\n |-- telephone: string (nullable = true)\n |-- recommendedby: integer (nullable = true)\n |-- joindate: string (nullable = true)\n\n</div>",
       "datasetInfos": [],
       "metadata": {},
       "removedWidgets": [],
       "type": "html"
      }
     },
     "output_type": "display_data"
    }
   ],
   "source": [
    "print('Bookings Schema')\n",
    "bookings_df.printSchema()\n",
    "print('Facilities Schema')\n",
    "facilities_df.printSchema()\n",
    "print('Members Schema')\n",
    "members_df.printSchema()"
   ]
  },
  {
   "cell_type": "code",
   "execution_count": 0,
   "metadata": {
    "application/vnd.databricks.v1+cell": {
     "inputWidgets": {},
     "nuid": "dd71ec7c-53e6-4e4d-adb6-3098fab4a3d5",
     "showTitle": false,
     "title": ""
    }
   },
   "outputs": [
    {
     "data": {
      "text/html": [
       "<style scoped>\n",
       "  .ansiout {\n",
       "    display: block;\n",
       "    unicode-bidi: embed;\n",
       "    white-space: pre-wrap;\n",
       "    word-wrap: break-word;\n",
       "    word-break: break-all;\n",
       "    font-family: \"Source Code Pro\", \"Menlo\", monospace;;\n",
       "    font-size: 13px;\n",
       "    color: #555;\n",
       "    margin-left: 4px;\n",
       "    line-height: 19px;\n",
       "  }\n",
       "</style>\n",
       "<div class=\"ansiout\"></div>"
      ]
     },
     "metadata": {
      "application/vnd.databricks.v1+output": {
       "addedWidgets": {},
       "arguments": {},
       "data": "<div class=\"ansiout\"></div>",
       "datasetInfos": [],
       "metadata": {},
       "removedWidgets": [],
       "type": "html"
      }
     },
     "output_type": "display_data"
    }
   ],
   "source": [
    "permanent_table_name_bookings = \"country_club.Bookings\"\n",
    "bookings_df.write.format(\"parquet\").saveAsTable(permanent_table_name_bookings)\n",
    "\n",
    "permanent_table_name_facilities = \"country_club.Facilities\"\n",
    "facilities_df.write.format(\"parquet\").saveAsTable(permanent_table_name_facilities)\n",
    "\n",
    "permanent_table_name_members = \"country_club.Members\"\n",
    "members_df.write.format(\"parquet\").saveAsTable(permanent_table_name_members)"
   ]
  },
  {
   "cell_type": "code",
   "execution_count": 0,
   "metadata": {
    "application/vnd.databricks.v1+cell": {
     "inputWidgets": {},
     "nuid": "febd1503-a473-4169-a67f-2776ba5274c7",
     "showTitle": false,
     "title": ""
    }
   },
   "outputs": [
    {
     "data": {
      "text/html": [
       "<style scoped>\n",
       "  .table-result-container {\n",
       "    max-height: 300px;\n",
       "    overflow: auto;\n",
       "  }\n",
       "  table, th, td {\n",
       "    border: 1px solid black;\n",
       "    border-collapse: collapse;\n",
       "  }\n",
       "  th, td {\n",
       "    padding: 5px;\n",
       "  }\n",
       "  th {\n",
       "    text-align: left;\n",
       "  }\n",
       "</style><div class='table-result-container'><table class='table-result'><thead style='background-color: white'><tr><th>database</th><th>tableName</th><th>isTemporary</th></tr></thead><tbody><tr><td>country_club</td><td>bookings</td><td>false</td></tr><tr><td>country_club</td><td>facilities</td><td>false</td></tr><tr><td>country_club</td><td>members</td><td>false</td></tr></tbody></table></div>"
      ]
     },
     "metadata": {
      "application/vnd.databricks.v1+output": {
       "addedWidgets": {},
       "aggData": [],
       "aggError": "",
       "aggOverflow": false,
       "aggSchema": [],
       "aggSeriesLimitReached": false,
       "aggType": "",
       "arguments": {},
       "columnCustomDisplayInfos": {},
       "data": [
        [
         "country_club",
         "bookings",
         false
        ],
        [
         "country_club",
         "facilities",
         false
        ],
        [
         "country_club",
         "members",
         false
        ]
       ],
       "datasetInfos": [],
       "dbfsResultPath": null,
       "isJsonSchema": true,
       "metadata": {
        "isDbfsCommandResult": false
       },
       "overflow": false,
       "plotOptions": {
        "customPlotOptions": {},
        "displayType": "table",
        "pivotAggregation": null,
        "pivotColumns": null,
        "xColumns": null,
        "yColumns": null
       },
       "removedWidgets": [],
       "schema": [
        {
         "metadata": "{}",
         "name": "database",
         "type": "\"string\""
        },
        {
         "metadata": "{}",
         "name": "tableName",
         "type": "\"string\""
        },
        {
         "metadata": "{}",
         "name": "isTemporary",
         "type": "\"boolean\""
        }
       ],
       "type": "table"
      }
     },
     "output_type": "display_data"
    }
   ],
   "source": [
    "%sql\n",
    "use country_club;\n",
    "REFRESH table bookings;\n",
    "REFRESH table facilities;\n",
    "REFRESH table members;\n",
    "show tables;"
   ]
  },
  {
   "cell_type": "code",
   "execution_count": 0,
   "metadata": {
    "application/vnd.databricks.v1+cell": {
     "inputWidgets": {},
     "nuid": "f3c8d0b5-29cf-41f4-ae89-039781f199f2",
     "showTitle": false,
     "title": ""
    }
   },
   "outputs": [
    {
     "data": {
      "text/html": [
       "<style scoped>\n",
       "  .table-result-container {\n",
       "    max-height: 300px;\n",
       "    overflow: auto;\n",
       "  }\n",
       "  table, th, td {\n",
       "    border: 1px solid black;\n",
       "    border-collapse: collapse;\n",
       "  }\n",
       "  th, td {\n",
       "    padding: 5px;\n",
       "  }\n",
       "  th {\n",
       "    text-align: left;\n",
       "  }\n",
       "</style><div class='table-result-container'><table class='table-result'><thead style='background-color: white'><tr><th>bookid</th><th>facid</th><th>memid</th><th>starttime</th><th>slots</th></tr></thead><tbody><tr><td>0</td><td>3</td><td>1</td><td>2012-07-03 11:00:00</td><td>2</td></tr><tr><td>1</td><td>4</td><td>1</td><td>2012-07-03 08:00:00</td><td>2</td></tr><tr><td>2</td><td>6</td><td>0</td><td>2012-07-03 18:00:00</td><td>2</td></tr></tbody></table></div>"
      ]
     },
     "metadata": {
      "application/vnd.databricks.v1+output": {
       "addedWidgets": {},
       "aggData": [],
       "aggError": "",
       "aggOverflow": false,
       "aggSchema": [],
       "aggSeriesLimitReached": false,
       "aggType": "",
       "arguments": {},
       "columnCustomDisplayInfos": {},
       "data": [
        [
         0,
         3,
         1,
         "2012-07-03 11:00:00",
         2
        ],
        [
         1,
         4,
         1,
         "2012-07-03 08:00:00",
         2
        ],
        [
         2,
         6,
         0,
         "2012-07-03 18:00:00",
         2
        ]
       ],
       "datasetInfos": [],
       "dbfsResultPath": null,
       "isJsonSchema": true,
       "metadata": {
        "isDbfsCommandResult": false
       },
       "overflow": false,
       "plotOptions": {
        "customPlotOptions": {},
        "displayType": "table",
        "pivotAggregation": null,
        "pivotColumns": null,
        "xColumns": null,
        "yColumns": null
       },
       "removedWidgets": [],
       "schema": [
        {
         "metadata": "{}",
         "name": "bookid",
         "type": "\"integer\""
        },
        {
         "metadata": "{}",
         "name": "facid",
         "type": "\"integer\""
        },
        {
         "metadata": "{}",
         "name": "memid",
         "type": "\"integer\""
        },
        {
         "metadata": "{}",
         "name": "starttime",
         "type": "\"string\""
        },
        {
         "metadata": "{}",
         "name": "slots",
         "type": "\"integer\""
        }
       ],
       "type": "table"
      }
     },
     "output_type": "display_data"
    }
   ],
   "source": [
    "%sql\n",
    "select * from bookings limit 3"
   ]
  },
  {
   "cell_type": "markdown",
   "metadata": {},
   "source": [
    "# Question and Answers are given below"
   ]
  },
  {
   "cell_type": "markdown",
   "metadata": {
    "application/vnd.databricks.v1+cell": {
     "inputWidgets": {},
     "nuid": "69104e9d-81fd-4d78-915b-0f9c17a981fe",
     "showTitle": false,
     "title": ""
    }
   },
   "source": [
    "Q1: Some of the facilities charge a fee to members, but some do not. Please list the names of the facilities that do."
   ]
  },
  {
   "cell_type": "code",
   "execution_count": 0,
   "metadata": {
    "application/vnd.databricks.v1+cell": {
     "inputWidgets": {},
     "nuid": "fb8f2072-7107-45c8-a13b-366bfd2d8ec6",
     "showTitle": false,
     "title": ""
    }
   },
   "outputs": [
    {
     "data": {
      "text/html": [
       "<style scoped>\n",
       "  .table-result-container {\n",
       "    max-height: 300px;\n",
       "    overflow: auto;\n",
       "  }\n",
       "  table, th, td {\n",
       "    border: 1px solid black;\n",
       "    border-collapse: collapse;\n",
       "  }\n",
       "  th, td {\n",
       "    padding: 5px;\n",
       "  }\n",
       "  th {\n",
       "    text-align: left;\n",
       "  }\n",
       "</style><div class='table-result-container'><table class='table-result'><thead style='background-color: white'><tr><th>facid</th><th>name</th><th>membercost</th><th>guestcost</th><th>initialoutlay</th><th>monthlymaintenance</th></tr></thead><tbody><tr><td>0</td><td>Tennis Court 1</td><td>5.0</td><td>25.0</td><td>10000</td><td>200</td></tr><tr><td>1</td><td>Tennis Court 2</td><td>5.0</td><td>25.0</td><td>8000</td><td>200</td></tr><tr><td>4</td><td>Massage Room 1</td><td>9.9</td><td>80.0</td><td>4000</td><td>3000</td></tr><tr><td>5</td><td>Massage Room 2</td><td>9.9</td><td>80.0</td><td>4000</td><td>3000</td></tr><tr><td>6</td><td>Squash Court</td><td>3.5</td><td>17.5</td><td>5000</td><td>80</td></tr></tbody></table></div>"
      ]
     },
     "metadata": {
      "application/vnd.databricks.v1+output": {
       "addedWidgets": {},
       "aggData": [],
       "aggError": "",
       "aggOverflow": false,
       "aggSchema": [],
       "aggSeriesLimitReached": false,
       "aggType": "",
       "arguments": {},
       "columnCustomDisplayInfos": {},
       "data": [
        [
         0,
         "Tennis Court 1",
         5,
         25,
         10000,
         200
        ],
        [
         1,
         "Tennis Court 2",
         5,
         25,
         8000,
         200
        ],
        [
         4,
         "Massage Room 1",
         9.9,
         80,
         4000,
         3000
        ],
        [
         5,
         "Massage Room 2",
         9.9,
         80,
         4000,
         3000
        ],
        [
         6,
         "Squash Court",
         3.5,
         17.5,
         5000,
         80
        ]
       ],
       "datasetInfos": [],
       "dbfsResultPath": null,
       "isJsonSchema": true,
       "metadata": {
        "isDbfsCommandResult": false
       },
       "overflow": false,
       "plotOptions": {
        "customPlotOptions": {},
        "displayType": "table",
        "pivotAggregation": null,
        "pivotColumns": null,
        "xColumns": null,
        "yColumns": null
       },
       "removedWidgets": [],
       "schema": [
        {
         "metadata": "{}",
         "name": "facid",
         "type": "\"integer\""
        },
        {
         "metadata": "{}",
         "name": "name",
         "type": "\"string\""
        },
        {
         "metadata": "{}",
         "name": "membercost",
         "type": "\"double\""
        },
        {
         "metadata": "{}",
         "name": "guestcost",
         "type": "\"double\""
        },
        {
         "metadata": "{}",
         "name": "initialoutlay",
         "type": "\"integer\""
        },
        {
         "metadata": "{}",
         "name": "monthlymaintenance",
         "type": "\"integer\""
        }
       ],
       "type": "table"
      }
     },
     "output_type": "display_data"
    }
   ],
   "source": [
    "%sql\n",
    "select * from facilities where membercost > 0 limit 100; "
   ]
  },
  {
   "cell_type": "markdown",
   "metadata": {
    "application/vnd.databricks.v1+cell": {
     "inputWidgets": {},
     "nuid": "907034f0-dd65-430e-9495-0c2978bfe97f",
     "showTitle": false,
     "title": ""
    }
   },
   "source": [
    "Q2: How many facilities do not charge a fee to members?"
   ]
  },
  {
   "cell_type": "code",
   "execution_count": 0,
   "metadata": {
    "application/vnd.databricks.v1+cell": {
     "inputWidgets": {},
     "nuid": "5c40b796-0ae2-48a9-957c-567dd25bd4bb",
     "showTitle": false,
     "title": ""
    }
   },
   "outputs": [
    {
     "data": {
      "text/html": [
       "<style scoped>\n",
       "  .table-result-container {\n",
       "    max-height: 300px;\n",
       "    overflow: auto;\n",
       "  }\n",
       "  table, th, td {\n",
       "    border: 1px solid black;\n",
       "    border-collapse: collapse;\n",
       "  }\n",
       "  th, td {\n",
       "    padding: 5px;\n",
       "  }\n",
       "  th {\n",
       "    text-align: left;\n",
       "  }\n",
       "</style><div class='table-result-container'><table class='table-result'><thead style='background-color: white'><tr><th>count(1)</th></tr></thead><tbody><tr><td>4</td></tr></tbody></table></div>"
      ]
     },
     "metadata": {
      "application/vnd.databricks.v1+output": {
       "addedWidgets": {},
       "aggData": [],
       "aggError": "",
       "aggOverflow": false,
       "aggSchema": [],
       "aggSeriesLimitReached": false,
       "aggType": "",
       "arguments": {},
       "columnCustomDisplayInfos": {},
       "data": [
        [
         4
        ]
       ],
       "datasetInfos": [],
       "dbfsResultPath": null,
       "isJsonSchema": true,
       "metadata": {
        "isDbfsCommandResult": false
       },
       "overflow": false,
       "plotOptions": {
        "customPlotOptions": {},
        "displayType": "table",
        "pivotAggregation": null,
        "pivotColumns": null,
        "xColumns": null,
        "yColumns": null
       },
       "removedWidgets": [],
       "schema": [
        {
         "metadata": "{}",
         "name": "count(1)",
         "type": "\"long\""
        }
       ],
       "type": "table"
      }
     },
     "output_type": "display_data"
    }
   ],
   "source": [
    "%sql\n",
    "select COUNT(*) from facilities where membercost == 0 limit 100; "
   ]
  },
  {
   "cell_type": "markdown",
   "metadata": {
    "application/vnd.databricks.v1+cell": {
     "inputWidgets": {},
     "nuid": "9a9434ab-883a-4a43-b9e6-b780aa2367cc",
     "showTitle": false,
     "title": ""
    }
   },
   "source": [
    "Q3: How can you produce a list of facilities that charge a fee to members, where the fee is less than 20% of the facility's monthly maintenance cost?¶\n",
    "\n",
    "Return the facid, facility name, member cost, and monthly maintenance of the facilities in question."
   ]
  },
  {
   "cell_type": "code",
   "execution_count": 0,
   "metadata": {
    "application/vnd.databricks.v1+cell": {
     "inputWidgets": {},
     "nuid": "a3b02750-86f4-4290-bf48-f3824449ac34",
     "showTitle": false,
     "title": ""
    }
   },
   "outputs": [
    {
     "data": {
      "text/html": [
       "<style scoped>\n",
       "  .table-result-container {\n",
       "    max-height: 300px;\n",
       "    overflow: auto;\n",
       "  }\n",
       "  table, th, td {\n",
       "    border: 1px solid black;\n",
       "    border-collapse: collapse;\n",
       "  }\n",
       "  th, td {\n",
       "    padding: 5px;\n",
       "  }\n",
       "  th {\n",
       "    text-align: left;\n",
       "  }\n",
       "</style><div class='table-result-container'><table class='table-result'><thead style='background-color: white'><tr><th>facid</th><th>name</th><th>membercost</th><th>monthlymaintenance</th></tr></thead><tbody><tr><td>0</td><td>Tennis Court 1</td><td>5.0</td><td>200</td></tr><tr><td>1</td><td>Tennis Court 2</td><td>5.0</td><td>200</td></tr><tr><td>4</td><td>Massage Room 1</td><td>9.9</td><td>3000</td></tr><tr><td>5</td><td>Massage Room 2</td><td>9.9</td><td>3000</td></tr><tr><td>6</td><td>Squash Court</td><td>3.5</td><td>80</td></tr></tbody></table></div>"
      ]
     },
     "metadata": {
      "application/vnd.databricks.v1+output": {
       "addedWidgets": {},
       "aggData": [],
       "aggError": "",
       "aggOverflow": false,
       "aggSchema": [],
       "aggSeriesLimitReached": false,
       "aggType": "",
       "arguments": {},
       "columnCustomDisplayInfos": {},
       "data": [
        [
         0,
         "Tennis Court 1",
         5,
         200
        ],
        [
         1,
         "Tennis Court 2",
         5,
         200
        ],
        [
         4,
         "Massage Room 1",
         9.9,
         3000
        ],
        [
         5,
         "Massage Room 2",
         9.9,
         3000
        ],
        [
         6,
         "Squash Court",
         3.5,
         80
        ]
       ],
       "datasetInfos": [],
       "dbfsResultPath": null,
       "isJsonSchema": true,
       "metadata": {
        "isDbfsCommandResult": false
       },
       "overflow": false,
       "plotOptions": {
        "customPlotOptions": {},
        "displayType": "table",
        "pivotAggregation": null,
        "pivotColumns": null,
        "xColumns": null,
        "yColumns": null
       },
       "removedWidgets": [],
       "schema": [
        {
         "metadata": "{}",
         "name": "facid",
         "type": "\"integer\""
        },
        {
         "metadata": "{}",
         "name": "name",
         "type": "\"string\""
        },
        {
         "metadata": "{}",
         "name": "membercost",
         "type": "\"double\""
        },
        {
         "metadata": "{}",
         "name": "monthlymaintenance",
         "type": "\"integer\""
        }
       ],
       "type": "table"
      }
     },
     "output_type": "display_data"
    }
   ],
   "source": [
    "%sql\n",
    "\n",
    "select facid, name, membercost, monthlymaintenance\n",
    "from facilities\n",
    "where membercost > 0 and ((membercost/monthlymaintenance) * 100) < 20\n",
    "limit 10\n"
   ]
  },
  {
   "cell_type": "markdown",
   "metadata": {
    "application/vnd.databricks.v1+cell": {
     "inputWidgets": {},
     "nuid": "f688ee6a-1742-4060-b126-7c22318921d9",
     "showTitle": false,
     "title": ""
    }
   },
   "source": [
    "Q4: How can you retrieve the details of facilities with ID 1 and 5? Write the query without using the OR operator."
   ]
  },
  {
   "cell_type": "code",
   "execution_count": 0,
   "metadata": {
    "application/vnd.databricks.v1+cell": {
     "inputWidgets": {},
     "nuid": "47ea7ab9-2b50-4bfc-9bd4-ba4806115654",
     "showTitle": false,
     "title": ""
    }
   },
   "outputs": [
    {
     "data": {
      "text/html": [
       "<style scoped>\n",
       "  .table-result-container {\n",
       "    max-height: 300px;\n",
       "    overflow: auto;\n",
       "  }\n",
       "  table, th, td {\n",
       "    border: 1px solid black;\n",
       "    border-collapse: collapse;\n",
       "  }\n",
       "  th, td {\n",
       "    padding: 5px;\n",
       "  }\n",
       "  th {\n",
       "    text-align: left;\n",
       "  }\n",
       "</style><div class='table-result-container'><table class='table-result'><thead style='background-color: white'><tr><th>facid</th><th>name</th><th>membercost</th><th>guestcost</th><th>initialoutlay</th><th>monthlymaintenance</th></tr></thead><tbody><tr><td>1</td><td>Tennis Court 2</td><td>5.0</td><td>25.0</td><td>8000</td><td>200</td></tr><tr><td>5</td><td>Massage Room 2</td><td>9.9</td><td>80.0</td><td>4000</td><td>3000</td></tr></tbody></table></div>"
      ]
     },
     "metadata": {
      "application/vnd.databricks.v1+output": {
       "addedWidgets": {},
       "aggData": [],
       "aggError": "",
       "aggOverflow": false,
       "aggSchema": [],
       "aggSeriesLimitReached": false,
       "aggType": "",
       "arguments": {},
       "columnCustomDisplayInfos": {},
       "data": [
        [
         1,
         "Tennis Court 2",
         5,
         25,
         8000,
         200
        ],
        [
         5,
         "Massage Room 2",
         9.9,
         80,
         4000,
         3000
        ]
       ],
       "datasetInfos": [],
       "dbfsResultPath": null,
       "isJsonSchema": true,
       "metadata": {
        "isDbfsCommandResult": false
       },
       "overflow": false,
       "plotOptions": {
        "customPlotOptions": {},
        "displayType": "table",
        "pivotAggregation": null,
        "pivotColumns": null,
        "xColumns": null,
        "yColumns": null
       },
       "removedWidgets": [],
       "schema": [
        {
         "metadata": "{}",
         "name": "facid",
         "type": "\"integer\""
        },
        {
         "metadata": "{}",
         "name": "name",
         "type": "\"string\""
        },
        {
         "metadata": "{}",
         "name": "membercost",
         "type": "\"double\""
        },
        {
         "metadata": "{}",
         "name": "guestcost",
         "type": "\"double\""
        },
        {
         "metadata": "{}",
         "name": "initialoutlay",
         "type": "\"integer\""
        },
        {
         "metadata": "{}",
         "name": "monthlymaintenance",
         "type": "\"integer\""
        }
       ],
       "type": "table"
      }
     },
     "output_type": "display_data"
    }
   ],
   "source": [
    "%sql\n",
    "select * from facilities\n",
    "where name like '%2';"
   ]
  },
  {
   "cell_type": "markdown",
   "metadata": {
    "application/vnd.databricks.v1+cell": {
     "inputWidgets": {},
     "nuid": "d32faaf3-495e-477a-8eee-f9e24ab4bf23",
     "showTitle": false,
     "title": ""
    }
   },
   "source": [
    "Q5: How can you produce a list of facilities, with each labelled as 'cheap' or 'expensive', depending on if their monthly maintenance cost is more than $100?¶\n",
    "\n",
    "Return the name and monthly maintenance of the facilities in question."
   ]
  },
  {
   "cell_type": "code",
   "execution_count": 0,
   "metadata": {
    "application/vnd.databricks.v1+cell": {
     "inputWidgets": {},
     "nuid": "c55f195f-1605-4565-b949-b90d17d0f410",
     "showTitle": false,
     "title": ""
    }
   },
   "outputs": [
    {
     "data": {
      "text/html": [
       "<style scoped>\n",
       "  .table-result-container {\n",
       "    max-height: 300px;\n",
       "    overflow: auto;\n",
       "  }\n",
       "  table, th, td {\n",
       "    border: 1px solid black;\n",
       "    border-collapse: collapse;\n",
       "  }\n",
       "  th, td {\n",
       "    padding: 5px;\n",
       "  }\n",
       "  th {\n",
       "    text-align: left;\n",
       "  }\n",
       "</style><div class='table-result-container'><table class='table-result'><thead style='background-color: white'><tr><th>name</th><th>monthlymaintenance</th><th>cheap_or_expensive</th></tr></thead><tbody><tr><td>Tennis Court 1</td><td>200</td><td>expensive</td></tr><tr><td>Tennis Court 2</td><td>200</td><td>expensive</td></tr><tr><td>Badminton Court</td><td>50</td><td>cheap</td></tr><tr><td>Table Tennis</td><td>10</td><td>cheap</td></tr><tr><td>Massage Room 1</td><td>3000</td><td>expensive</td></tr><tr><td>Massage Room 2</td><td>3000</td><td>expensive</td></tr><tr><td>Squash Court</td><td>80</td><td>cheap</td></tr><tr><td>Snooker Table</td><td>15</td><td>cheap</td></tr><tr><td>Pool Table</td><td>15</td><td>cheap</td></tr></tbody></table></div>"
      ]
     },
     "metadata": {
      "application/vnd.databricks.v1+output": {
       "addedWidgets": {},
       "aggData": [],
       "aggError": "",
       "aggOverflow": false,
       "aggSchema": [],
       "aggSeriesLimitReached": false,
       "aggType": "",
       "arguments": {},
       "columnCustomDisplayInfos": {},
       "data": [
        [
         "Tennis Court 1",
         200,
         "expensive"
        ],
        [
         "Tennis Court 2",
         200,
         "expensive"
        ],
        [
         "Badminton Court",
         50,
         "cheap"
        ],
        [
         "Table Tennis",
         10,
         "cheap"
        ],
        [
         "Massage Room 1",
         3000,
         "expensive"
        ],
        [
         "Massage Room 2",
         3000,
         "expensive"
        ],
        [
         "Squash Court",
         80,
         "cheap"
        ],
        [
         "Snooker Table",
         15,
         "cheap"
        ],
        [
         "Pool Table",
         15,
         "cheap"
        ]
       ],
       "datasetInfos": [],
       "dbfsResultPath": null,
       "isJsonSchema": true,
       "metadata": {
        "isDbfsCommandResult": false
       },
       "overflow": false,
       "plotOptions": {
        "customPlotOptions": {},
        "displayType": "table",
        "pivotAggregation": null,
        "pivotColumns": null,
        "xColumns": null,
        "yColumns": null
       },
       "removedWidgets": [],
       "schema": [
        {
         "metadata": "{}",
         "name": "name",
         "type": "\"string\""
        },
        {
         "metadata": "{}",
         "name": "monthlymaintenance",
         "type": "\"integer\""
        },
        {
         "metadata": "{}",
         "name": "cheap_or_expensive",
         "type": "\"string\""
        }
       ],
       "type": "table"
      }
     },
     "output_type": "display_data"
    }
   ],
   "source": [
    "%sql\n",
    "\n",
    "select name, monthlymaintenance,\n",
    "    (case when monthlymaintenance<100 then 'cheap'\n",
    "    when monthlymaintenance>100 then 'expensive'\n",
    "    end) as cheap_or_expensive\n",
    "from facilities\n"
   ]
  },
  {
   "cell_type": "markdown",
   "metadata": {
    "application/vnd.databricks.v1+cell": {
     "inputWidgets": {},
     "nuid": "1b649e39-a78b-402c-858a-3d73a134197f",
     "showTitle": false,
     "title": ""
    }
   },
   "source": [
    "Q6: You'd like to get the first and last name of the last member(s) who signed up. Do not use the LIMIT clause for your solution."
   ]
  },
  {
   "cell_type": "code",
   "execution_count": 0,
   "metadata": {
    "application/vnd.databricks.v1+cell": {
     "inputWidgets": {},
     "nuid": "76a81697-5aa2-4ae1-bcbe-59aebd64d0cc",
     "showTitle": false,
     "title": ""
    }
   },
   "outputs": [
    {
     "data": {
      "text/html": [
       "<style scoped>\n",
       "  .table-result-container {\n",
       "    max-height: 300px;\n",
       "    overflow: auto;\n",
       "  }\n",
       "  table, th, td {\n",
       "    border: 1px solid black;\n",
       "    border-collapse: collapse;\n",
       "  }\n",
       "  th, td {\n",
       "    padding: 5px;\n",
       "  }\n",
       "  th {\n",
       "    text-align: left;\n",
       "  }\n",
       "</style><div class='table-result-container'><table class='table-result'><thead style='background-color: white'><tr><th>firstname</th><th>lastname</th></tr></thead><tbody><tr><td>Darren</td><td>Smith</td></tr><tr><td>Erica</td><td>Crumpet</td></tr><tr><td>John</td><td>Hunt</td></tr><tr><td>Hyacinth</td><td>Tupperware</td></tr><tr><td>Millicent</td><td>Purview</td></tr><tr><td>Henry</td><td>Worthington-Smyth</td></tr><tr><td>David</td><td>Farrell</td></tr><tr><td>Henrietta</td><td>Rumney</td></tr><tr><td>Douglas</td><td>Jones</td></tr></tbody></table></div>"
      ]
     },
     "metadata": {
      "application/vnd.databricks.v1+output": {
       "addedWidgets": {},
       "aggData": [],
       "aggError": "",
       "aggOverflow": false,
       "aggSchema": [],
       "aggSeriesLimitReached": false,
       "aggType": "",
       "arguments": {},
       "columnCustomDisplayInfos": {},
       "data": [
        [
         "Darren",
         "Smith"
        ],
        [
         "Erica",
         "Crumpet"
        ],
        [
         "John",
         "Hunt"
        ],
        [
         "Hyacinth",
         "Tupperware"
        ],
        [
         "Millicent",
         "Purview"
        ],
        [
         "Henry",
         "Worthington-Smyth"
        ],
        [
         "David",
         "Farrell"
        ],
        [
         "Henrietta",
         "Rumney"
        ],
        [
         "Douglas",
         "Jones"
        ]
       ],
       "datasetInfos": [],
       "dbfsResultPath": null,
       "isJsonSchema": true,
       "metadata": {
        "isDbfsCommandResult": false
       },
       "overflow": false,
       "plotOptions": {
        "customPlotOptions": {},
        "displayType": "table",
        "pivotAggregation": null,
        "pivotColumns": null,
        "xColumns": null,
        "yColumns": null
       },
       "removedWidgets": [],
       "schema": [
        {
         "metadata": "{}",
         "name": "firstname",
         "type": "\"string\""
        },
        {
         "metadata": "{}",
         "name": "lastname",
         "type": "\"string\""
        }
       ],
       "type": "table"
      }
     },
     "output_type": "display_data"
    }
   ],
   "source": [
    "%sql\n",
    "select firstname, surname as lastname from Members\n",
    "where memid > 25\n",
    "order by memid desc;\n"
   ]
  },
  {
   "cell_type": "markdown",
   "metadata": {
    "application/vnd.databricks.v1+cell": {
     "inputWidgets": {},
     "nuid": "c07737ec-72a8-4774-8d4b-a6a075f7959e",
     "showTitle": false,
     "title": ""
    }
   },
   "source": [
    "Q7: How can you produce a list of all members who have used a tennis court?\n",
    "\n",
    "Include in your output the name of the court, and the name of the member formatted as a single column.\n",
    "\n",
    "Ensure no duplicate data\n",
    "\n",
    "Also order by the member name."
   ]
  },
  {
   "cell_type": "code",
   "execution_count": 0,
   "metadata": {
    "application/vnd.databricks.v1+cell": {
     "inputWidgets": {},
     "nuid": "ead33bfd-ae97-4142-bd31-c409b32256da",
     "showTitle": false,
     "title": ""
    }
   },
   "outputs": [
    {
     "data": {
      "text/html": [
       "<style scoped>\n",
       "  .table-result-container {\n",
       "    max-height: 300px;\n",
       "    overflow: auto;\n",
       "  }\n",
       "  table, th, td {\n",
       "    border: 1px solid black;\n",
       "    border-collapse: collapse;\n",
       "  }\n",
       "  th, td {\n",
       "    padding: 5px;\n",
       "  }\n",
       "  th {\n",
       "    text-align: left;\n",
       "  }\n",
       "</style><div class='table-result-container'><table class='table-result'><thead style='background-color: white'><tr><th>name</th><th>firstname</th><th>surname</th></tr></thead><tbody><tr><td>Tennis Court 2</td><td>Anne</td><td>Baker</td></tr><tr><td>Tennis Court 1</td><td>Anne</td><td>Baker</td></tr><tr><td>Tennis Court 1</td><td>Burton</td><td>Tracy</td></tr><tr><td>Tennis Court 2</td><td>Burton</td><td>Tracy</td></tr><tr><td>Tennis Court 1</td><td>Charles</td><td>Owen</td></tr><tr><td>Tennis Court 2</td><td>Charles</td><td>Owen</td></tr><tr><td>Tennis Court 2</td><td>Darren</td><td>Smith</td></tr><tr><td>Tennis Court 2</td><td>David</td><td>Farrell</td></tr><tr><td>Tennis Court 1</td><td>David</td><td>Farrell</td></tr><tr><td>Tennis Court 1</td><td>David</td><td>Jones</td></tr><tr><td>Tennis Court 2</td><td>David</td><td>Jones</td></tr><tr><td>Tennis Court 1</td><td>David</td><td>Pinker</td></tr><tr><td>Tennis Court 1</td><td>Douglas</td><td>Jones</td></tr><tr><td>Tennis Court 1</td><td>Erica</td><td>Crumpet</td></tr><tr><td>Tennis Court 2</td><td>Florence</td><td>Bader</td></tr><tr><td>Tennis Court 1</td><td>Florence</td><td>Bader</td></tr><tr><td>Tennis Court 2</td><td>GUEST</td><td>GUEST</td></tr><tr><td>Tennis Court 1</td><td>GUEST</td><td>GUEST</td></tr><tr><td>Tennis Court 2</td><td>Gerald</td><td>Butters</td></tr><tr><td>Tennis Court 1</td><td>Gerald</td><td>Butters</td></tr><tr><td>Tennis Court 2</td><td>Henrietta</td><td>Rumney</td></tr><tr><td>Tennis Court 1</td><td>Jack</td><td>Smith</td></tr><tr><td>Tennis Court 2</td><td>Jack</td><td>Smith</td></tr><tr><td>Tennis Court 2</td><td>Janice</td><td>Joplette</td></tr><tr><td>Tennis Court 1</td><td>Janice</td><td>Joplette</td></tr><tr><td>Tennis Court 2</td><td>Jemima</td><td>Farrell</td></tr><tr><td>Tennis Court 1</td><td>Jemima</td><td>Farrell</td></tr><tr><td>Tennis Court 1</td><td>Joan</td><td>Coplin</td></tr><tr><td>Tennis Court 1</td><td>John</td><td>Hunt</td></tr><tr><td>Tennis Court 2</td><td>John</td><td>Hunt</td></tr><tr><td>Tennis Court 1</td><td>Matthew</td><td>Genting</td></tr><tr><td>Tennis Court 2</td><td>Millicent</td><td>Purview</td></tr><tr><td>Tennis Court 2</td><td>Nancy</td><td>Dare</td></tr><tr><td>Tennis Court 1</td><td>Nancy</td><td>Dare</td></tr><tr><td>Tennis Court 1</td><td>Ponder</td><td>Stibbons</td></tr><tr><td>Tennis Court 2</td><td>Ponder</td><td>Stibbons</td></tr><tr><td>Tennis Court 2</td><td>Ramnaresh</td><td>Sarwin</td></tr><tr><td>Tennis Court 1</td><td>Ramnaresh</td><td>Sarwin</td></tr><tr><td>Tennis Court 1</td><td>Tim</td><td>Boothe</td></tr><tr><td>Tennis Court 2</td><td>Tim</td><td>Boothe</td></tr><tr><td>Tennis Court 1</td><td>Tim</td><td>Rownam</td></tr><tr><td>Tennis Court 2</td><td>Tim</td><td>Rownam</td></tr><tr><td>Tennis Court 1</td><td>Timothy</td><td>Baker</td></tr><tr><td>Tennis Court 2</td><td>Timothy</td><td>Baker</td></tr><tr><td>Tennis Court 2</td><td>Tracy</td><td>Smith</td></tr><tr><td>Tennis Court 1</td><td>Tracy</td><td>Smith</td></tr></tbody></table></div>"
      ]
     },
     "metadata": {
      "application/vnd.databricks.v1+output": {
       "addedWidgets": {},
       "aggData": [],
       "aggError": "",
       "aggOverflow": false,
       "aggSchema": [],
       "aggSeriesLimitReached": false,
       "aggType": "",
       "arguments": {},
       "columnCustomDisplayInfos": {},
       "data": [
        [
         "Tennis Court 2",
         "Anne",
         "Baker"
        ],
        [
         "Tennis Court 1",
         "Anne",
         "Baker"
        ],
        [
         "Tennis Court 1",
         "Burton",
         "Tracy"
        ],
        [
         "Tennis Court 2",
         "Burton",
         "Tracy"
        ],
        [
         "Tennis Court 1",
         "Charles",
         "Owen"
        ],
        [
         "Tennis Court 2",
         "Charles",
         "Owen"
        ],
        [
         "Tennis Court 2",
         "Darren",
         "Smith"
        ],
        [
         "Tennis Court 2",
         "David",
         "Farrell"
        ],
        [
         "Tennis Court 1",
         "David",
         "Farrell"
        ],
        [
         "Tennis Court 1",
         "David",
         "Jones"
        ],
        [
         "Tennis Court 2",
         "David",
         "Jones"
        ],
        [
         "Tennis Court 1",
         "David",
         "Pinker"
        ],
        [
         "Tennis Court 1",
         "Douglas",
         "Jones"
        ],
        [
         "Tennis Court 1",
         "Erica",
         "Crumpet"
        ],
        [
         "Tennis Court 2",
         "Florence",
         "Bader"
        ],
        [
         "Tennis Court 1",
         "Florence",
         "Bader"
        ],
        [
         "Tennis Court 2",
         "GUEST",
         "GUEST"
        ],
        [
         "Tennis Court 1",
         "GUEST",
         "GUEST"
        ],
        [
         "Tennis Court 2",
         "Gerald",
         "Butters"
        ],
        [
         "Tennis Court 1",
         "Gerald",
         "Butters"
        ],
        [
         "Tennis Court 2",
         "Henrietta",
         "Rumney"
        ],
        [
         "Tennis Court 1",
         "Jack",
         "Smith"
        ],
        [
         "Tennis Court 2",
         "Jack",
         "Smith"
        ],
        [
         "Tennis Court 2",
         "Janice",
         "Joplette"
        ],
        [
         "Tennis Court 1",
         "Janice",
         "Joplette"
        ],
        [
         "Tennis Court 2",
         "Jemima",
         "Farrell"
        ],
        [
         "Tennis Court 1",
         "Jemima",
         "Farrell"
        ],
        [
         "Tennis Court 1",
         "Joan",
         "Coplin"
        ],
        [
         "Tennis Court 1",
         "John",
         "Hunt"
        ],
        [
         "Tennis Court 2",
         "John",
         "Hunt"
        ],
        [
         "Tennis Court 1",
         "Matthew",
         "Genting"
        ],
        [
         "Tennis Court 2",
         "Millicent",
         "Purview"
        ],
        [
         "Tennis Court 2",
         "Nancy",
         "Dare"
        ],
        [
         "Tennis Court 1",
         "Nancy",
         "Dare"
        ],
        [
         "Tennis Court 1",
         "Ponder",
         "Stibbons"
        ],
        [
         "Tennis Court 2",
         "Ponder",
         "Stibbons"
        ],
        [
         "Tennis Court 2",
         "Ramnaresh",
         "Sarwin"
        ],
        [
         "Tennis Court 1",
         "Ramnaresh",
         "Sarwin"
        ],
        [
         "Tennis Court 1",
         "Tim",
         "Boothe"
        ],
        [
         "Tennis Court 2",
         "Tim",
         "Boothe"
        ],
        [
         "Tennis Court 1",
         "Tim",
         "Rownam"
        ],
        [
         "Tennis Court 2",
         "Tim",
         "Rownam"
        ],
        [
         "Tennis Court 1",
         "Timothy",
         "Baker"
        ],
        [
         "Tennis Court 2",
         "Timothy",
         "Baker"
        ],
        [
         "Tennis Court 2",
         "Tracy",
         "Smith"
        ],
        [
         "Tennis Court 1",
         "Tracy",
         "Smith"
        ]
       ],
       "datasetInfos": [],
       "dbfsResultPath": null,
       "isJsonSchema": true,
       "metadata": {
        "isDbfsCommandResult": false
       },
       "overflow": false,
       "plotOptions": {
        "customPlotOptions": {},
        "displayType": "table",
        "pivotAggregation": null,
        "pivotColumns": null,
        "xColumns": null,
        "yColumns": null
       },
       "removedWidgets": [],
       "schema": [
        {
         "metadata": "{}",
         "name": "name",
         "type": "\"string\""
        },
        {
         "metadata": "{}",
         "name": "firstname",
         "type": "\"string\""
        },
        {
         "metadata": "{}",
         "name": "surname",
         "type": "\"string\""
        }
       ],
       "type": "table"
      }
     },
     "output_type": "display_data"
    }
   ],
   "source": [
    "%sql\n",
    "select f.name, m.firstname, m.surname\n",
    "from Bookings as b\n",
    "inner join facilities as f\n",
    "on b.facid = f.facid\n",
    "inner join Members as m\n",
    "on m.memid = b.memid\n",
    "where b.facid == 0 or b.facid == 1\n",
    "group by f.name, m.firstname,m.surname\n",
    "order by firstname, surname;"
   ]
  },
  {
   "cell_type": "markdown",
   "metadata": {
    "application/vnd.databricks.v1+cell": {
     "inputWidgets": {},
     "nuid": "10ead5b0-42e4-43cd-82ae-442b74e57450",
     "showTitle": false,
     "title": ""
    }
   },
   "source": [
    "Q8: How can you produce a list of bookings on the day of 2012-09-14 which will cost the member (or guest) more than $30?\n",
    "\n",
    "  Remember that guests have different costs to members (the listed costs are per half-hour 'slot')\n",
    "\n",
    "  The guest user's ID is always 0.\n",
    "\n",
    "Include in your output the name of the facility, the name of the member formatted as a single column, and the cost.\n",
    "\n",
    "  Order by descending cost, and do not use any subqueries."
   ]
  },
  {
   "cell_type": "code",
   "execution_count": 0,
   "metadata": {
    "application/vnd.databricks.v1+cell": {
     "inputWidgets": {},
     "nuid": "fec8243e-e8bb-45eb-acc7-6aedc91ebbf0",
     "showTitle": false,
     "title": ""
    }
   },
   "outputs": [
    {
     "data": {
      "text/html": [
       "<style scoped>\n",
       "  .table-result-container {\n",
       "    max-height: 300px;\n",
       "    overflow: auto;\n",
       "  }\n",
       "  table, th, td {\n",
       "    border: 1px solid black;\n",
       "    border-collapse: collapse;\n",
       "  }\n",
       "  th, td {\n",
       "    padding: 5px;\n",
       "  }\n",
       "  th {\n",
       "    text-align: left;\n",
       "  }\n",
       "</style><div class='table-result-container'><table class='table-result'><thead style='background-color: white'><tr><th>starttime</th><th>subscriber_name</th><th>name</th><th>total_cost</th></tr></thead><tbody><tr><td>2012-09-14T11:00:00.000+0000</td><td>GUEST GUEST</td><td>Massage Room 2</td><td>3320.0</td></tr><tr><td>2012-09-14T13:00:00.000+0000</td><td>GUEST GUEST</td><td>Massage Room 1</td><td>3160.0</td></tr><tr><td>2012-09-14T16:00:00.000+0000</td><td>GUEST GUEST</td><td>Massage Room 1</td><td>3160.0</td></tr><tr><td>2012-09-14T09:00:00.000+0000</td><td>GUEST GUEST</td><td>Massage Room 1</td><td>3160.0</td></tr><tr><td>2012-09-14T14:00:00.000+0000</td><td>Jemima Farrell</td><td>Massage Room 1</td><td>3039.6</td></tr><tr><td>2012-09-14T09:30:00.000+0000</td><td>Florence Bader</td><td>Massage Room 2</td><td>3019.8</td></tr><tr><td>2012-09-14T08:00:00.000+0000</td><td>Jack Smith</td><td>Massage Room 1</td><td>3019.8</td></tr><tr><td>2012-09-14T18:00:00.000+0000</td><td>Burton Tracy</td><td>Massage Room 1</td><td>3019.8</td></tr><tr><td>2012-09-14T11:00:00.000+0000</td><td>Jemima Farrell</td><td>Massage Room 1</td><td>3019.8</td></tr><tr><td>2012-09-14T12:00:00.000+0000</td><td>Ponder Stibbons</td><td>Massage Room 1</td><td>3019.8</td></tr><tr><td>2012-09-14T19:00:00.000+0000</td><td>Matthew Genting</td><td>Massage Room 1</td><td>3019.8</td></tr><tr><td>2012-09-14T17:00:00.000+0000</td><td>GUEST GUEST</td><td>Tennis Court 2</td><td>350.0</td></tr><tr><td>2012-09-14T19:00:00.000+0000</td><td>GUEST GUEST</td><td>Tennis Court 1</td><td>275.0</td></tr><tr><td>2012-09-14T16:00:00.000+0000</td><td>GUEST GUEST</td><td>Tennis Court 1</td><td>275.0</td></tr><tr><td>2012-09-14T14:00:00.000+0000</td><td>GUEST GUEST</td><td>Tennis Court 2</td><td>275.0</td></tr><tr><td>2012-09-14T11:00:00.000+0000</td><td>Tim Boothe</td><td>Tennis Court 2</td><td>230.0</td></tr><tr><td>2012-09-14T08:00:00.000+0000</td><td>David Jones</td><td>Tennis Court 2</td><td>230.0</td></tr><tr><td>2012-09-14T12:30:00.000+0000</td><td>Gerald Butters</td><td>Tennis Court 1</td><td>215.0</td></tr><tr><td>2012-09-14T14:00:00.000+0000</td><td>Tim Rownam</td><td>Tennis Court 1</td><td>215.0</td></tr><tr><td>2012-09-14T08:00:00.000+0000</td><td>Burton Tracy</td><td>Tennis Court 1</td><td>215.0</td></tr><tr><td>2012-09-14T10:00:00.000+0000</td><td>David Pinker</td><td>Tennis Court 1</td><td>215.0</td></tr><tr><td>2012-09-14T17:30:00.000+0000</td><td>Douglas Jones</td><td>Tennis Court 1</td><td>215.0</td></tr><tr><td>2012-09-14T09:30:00.000+0000</td><td>GUEST GUEST</td><td>Squash Court</td><td>150.0</td></tr><tr><td>2012-09-14T12:30:00.000+0000</td><td>GUEST GUEST</td><td>Squash Court</td><td>115.0</td></tr><tr><td>2012-09-14T15:00:00.000+0000</td><td>GUEST GUEST</td><td>Squash Court</td><td>115.0</td></tr><tr><td>2012-09-14T17:30:00.000+0000</td><td>David Pinker</td><td>Squash Court</td><td>87.0</td></tr><tr><td>2012-09-14T16:00:00.000+0000</td><td>Anne Baker</td><td>Squash Court</td><td>87.0</td></tr><tr><td>2012-09-14T08:30:00.000+0000</td><td>Anne Baker</td><td>Squash Court</td><td>87.0</td></tr><tr><td>2012-09-14T14:00:00.000+0000</td><td>Timothy Baker</td><td>Squash Court</td><td>87.0</td></tr><tr><td>2012-09-14T11:00:00.000+0000</td><td>Anna Mackenzie</td><td>Badminton Court</td><td>50.0</td></tr><tr><td>2012-09-14T16:00:00.000+0000</td><td>Gerald Butters</td><td>Badminton Court</td><td>50.0</td></tr><tr><td>2012-09-14T08:00:00.000+0000</td><td>Darren Smith</td><td>Badminton Court</td><td>50.0</td></tr><tr><td>2012-09-14T13:00:00.000+0000</td><td>Darren Smith</td><td>Badminton Court</td><td>50.0</td></tr><tr><td>2012-09-14T18:00:00.000+0000</td><td>Ponder Stibbons</td><td>Badminton Court</td><td>50.0</td></tr></tbody></table></div>"
      ]
     },
     "metadata": {
      "application/vnd.databricks.v1+output": {
       "addedWidgets": {},
       "aggData": [],
       "aggError": "",
       "aggOverflow": false,
       "aggSchema": [],
       "aggSeriesLimitReached": false,
       "aggType": "",
       "arguments": {},
       "columnCustomDisplayInfos": {},
       "data": [
        [
         "2012-09-14T11:00:00.000+0000",
         "GUEST GUEST",
         "Massage Room 2",
         3320
        ],
        [
         "2012-09-14T13:00:00.000+0000",
         "GUEST GUEST",
         "Massage Room 1",
         3160
        ],
        [
         "2012-09-14T16:00:00.000+0000",
         "GUEST GUEST",
         "Massage Room 1",
         3160
        ],
        [
         "2012-09-14T09:00:00.000+0000",
         "GUEST GUEST",
         "Massage Room 1",
         3160
        ],
        [
         "2012-09-14T14:00:00.000+0000",
         "Jemima Farrell",
         "Massage Room 1",
         3039.6
        ],
        [
         "2012-09-14T09:30:00.000+0000",
         "Florence Bader",
         "Massage Room 2",
         3019.8
        ],
        [
         "2012-09-14T08:00:00.000+0000",
         "Jack Smith",
         "Massage Room 1",
         3019.8
        ],
        [
         "2012-09-14T18:00:00.000+0000",
         "Burton Tracy",
         "Massage Room 1",
         3019.8
        ],
        [
         "2012-09-14T11:00:00.000+0000",
         "Jemima Farrell",
         "Massage Room 1",
         3019.8
        ],
        [
         "2012-09-14T12:00:00.000+0000",
         "Ponder Stibbons",
         "Massage Room 1",
         3019.8
        ],
        [
         "2012-09-14T19:00:00.000+0000",
         "Matthew Genting",
         "Massage Room 1",
         3019.8
        ],
        [
         "2012-09-14T17:00:00.000+0000",
         "GUEST GUEST",
         "Tennis Court 2",
         350
        ],
        [
         "2012-09-14T19:00:00.000+0000",
         "GUEST GUEST",
         "Tennis Court 1",
         275
        ],
        [
         "2012-09-14T16:00:00.000+0000",
         "GUEST GUEST",
         "Tennis Court 1",
         275
        ],
        [
         "2012-09-14T14:00:00.000+0000",
         "GUEST GUEST",
         "Tennis Court 2",
         275
        ],
        [
         "2012-09-14T11:00:00.000+0000",
         "Tim Boothe",
         "Tennis Court 2",
         230
        ],
        [
         "2012-09-14T08:00:00.000+0000",
         "David Jones",
         "Tennis Court 2",
         230
        ],
        [
         "2012-09-14T12:30:00.000+0000",
         "Gerald Butters",
         "Tennis Court 1",
         215
        ],
        [
         "2012-09-14T14:00:00.000+0000",
         "Tim Rownam",
         "Tennis Court 1",
         215
        ],
        [
         "2012-09-14T08:00:00.000+0000",
         "Burton Tracy",
         "Tennis Court 1",
         215
        ],
        [
         "2012-09-14T10:00:00.000+0000",
         "David Pinker",
         "Tennis Court 1",
         215
        ],
        [
         "2012-09-14T17:30:00.000+0000",
         "Douglas Jones",
         "Tennis Court 1",
         215
        ],
        [
         "2012-09-14T09:30:00.000+0000",
         "GUEST GUEST",
         "Squash Court",
         150
        ],
        [
         "2012-09-14T12:30:00.000+0000",
         "GUEST GUEST",
         "Squash Court",
         115
        ],
        [
         "2012-09-14T15:00:00.000+0000",
         "GUEST GUEST",
         "Squash Court",
         115
        ],
        [
         "2012-09-14T17:30:00.000+0000",
         "David Pinker",
         "Squash Court",
         87
        ],
        [
         "2012-09-14T16:00:00.000+0000",
         "Anne Baker",
         "Squash Court",
         87
        ],
        [
         "2012-09-14T08:30:00.000+0000",
         "Anne Baker",
         "Squash Court",
         87
        ],
        [
         "2012-09-14T14:00:00.000+0000",
         "Timothy Baker",
         "Squash Court",
         87
        ],
        [
         "2012-09-14T11:00:00.000+0000",
         "Anna Mackenzie",
         "Badminton Court",
         50
        ],
        [
         "2012-09-14T16:00:00.000+0000",
         "Gerald Butters",
         "Badminton Court",
         50
        ],
        [
         "2012-09-14T08:00:00.000+0000",
         "Darren Smith",
         "Badminton Court",
         50
        ],
        [
         "2012-09-14T13:00:00.000+0000",
         "Darren Smith",
         "Badminton Court",
         50
        ],
        [
         "2012-09-14T18:00:00.000+0000",
         "Ponder Stibbons",
         "Badminton Court",
         50
        ]
       ],
       "datasetInfos": [],
       "dbfsResultPath": null,
       "isJsonSchema": true,
       "metadata": {
        "isDbfsCommandResult": false
       },
       "overflow": false,
       "plotOptions": {
        "customPlotOptions": {},
        "displayType": "table",
        "pivotAggregation": null,
        "pivotColumns": null,
        "xColumns": null,
        "yColumns": null
       },
       "removedWidgets": [],
       "schema": [
        {
         "metadata": "{}",
         "name": "starttime",
         "type": "\"timestamp\""
        },
        {
         "metadata": "{}",
         "name": "subscriber_name",
         "type": "\"string\""
        },
        {
         "metadata": "{}",
         "name": "name",
         "type": "\"string\""
        },
        {
         "metadata": "{}",
         "name": "total_cost",
         "type": "\"double\""
        }
       ],
       "type": "table"
      }
     },
     "output_type": "display_data"
    }
   ],
   "source": [
    "%sql\n",
    "\n",
    "select cast(b.starttime as TIMESTAMP), CONCAT(m.firstname, \" \", m.surname) as subscriber_name, f.name,\n",
    " (case when b.memid=0 and ((b.slots * f.guestcost) + f.monthlymaintenance) > 30 then ((b.slots * f.guestcost) + f.monthlymaintenance) \n",
    " when b.memid>0 and ((b.slots * f.membercost)+ f.monthlymaintenance) > 30 then ((b.slots * f.membercost)+ f.monthlymaintenance) end) as total_cost\n",
    "from Bookings as b\n",
    "inner join facilities as f\n",
    "on b.facid = f.facid\n",
    "inner join Members as m\n",
    "on m.memid = b.memid\n",
    "where (starttime Like '2012-09-14%') \n",
    "group by b.starttime, subscriber_name, f.name, total_cost\n",
    "having total_cost is not null\n",
    "order by total_cost Desc;"
   ]
  },
  {
   "cell_type": "markdown",
   "metadata": {
    "application/vnd.databricks.v1+cell": {
     "inputWidgets": {},
     "nuid": "644216ec-f3a7-4a1c-8a5d-96118ceb4b69",
     "showTitle": false,
     "title": ""
    }
   },
   "source": [
    "Q9: This time, produce the same result as in Q8, but using a subquery."
   ]
  },
  {
   "cell_type": "code",
   "execution_count": 0,
   "metadata": {
    "application/vnd.databricks.v1+cell": {
     "inputWidgets": {},
     "nuid": "140ea63b-2e72-4096-b406-af37d4c91e97",
     "showTitle": false,
     "title": ""
    }
   },
   "outputs": [
    {
     "data": {
      "text/html": [
       "<style scoped>\n",
       "  .table-result-container {\n",
       "    max-height: 300px;\n",
       "    overflow: auto;\n",
       "  }\n",
       "  table, th, td {\n",
       "    border: 1px solid black;\n",
       "    border-collapse: collapse;\n",
       "  }\n",
       "  th, td {\n",
       "    padding: 5px;\n",
       "  }\n",
       "  th {\n",
       "    text-align: left;\n",
       "  }\n",
       "</style><div class='table-result-container'><table class='table-result'><thead style='background-color: white'><tr><th>starttime</th><th>subscriber_name</th><th>customer</th><th>total_cost</th></tr></thead><tbody><tr><td>2012-09-14T11:00:00.000+0000</td><td>GUEST GUEST</td><td>Massage Room 2</td><td>3320.0</td></tr><tr><td>2012-09-14T13:00:00.000+0000</td><td>GUEST GUEST</td><td>Massage Room 1</td><td>3160.0</td></tr><tr><td>2012-09-14T16:00:00.000+0000</td><td>GUEST GUEST</td><td>Massage Room 1</td><td>3160.0</td></tr><tr><td>2012-09-14T09:00:00.000+0000</td><td>GUEST GUEST</td><td>Massage Room 1</td><td>3160.0</td></tr><tr><td>2012-09-14T14:00:00.000+0000</td><td>Jemima Farrell</td><td>Massage Room 1</td><td>3039.6</td></tr><tr><td>2012-09-14T11:00:00.000+0000</td><td>Jemima Farrell</td><td>Massage Room 1</td><td>3019.8</td></tr><tr><td>2012-09-14T18:00:00.000+0000</td><td>Burton Tracy</td><td>Massage Room 1</td><td>3019.8</td></tr><tr><td>2012-09-14T08:00:00.000+0000</td><td>Jack Smith</td><td>Massage Room 1</td><td>3019.8</td></tr><tr><td>2012-09-14T12:00:00.000+0000</td><td>Ponder Stibbons</td><td>Massage Room 1</td><td>3019.8</td></tr><tr><td>2012-09-14T09:30:00.000+0000</td><td>Florence Bader</td><td>Massage Room 2</td><td>3019.8</td></tr><tr><td>2012-09-14T19:00:00.000+0000</td><td>Matthew Genting</td><td>Massage Room 1</td><td>3019.8</td></tr><tr><td>2012-09-14T17:00:00.000+0000</td><td>GUEST GUEST</td><td>Tennis Court 2</td><td>350.0</td></tr><tr><td>2012-09-14T16:00:00.000+0000</td><td>GUEST GUEST</td><td>Tennis Court 1</td><td>275.0</td></tr><tr><td>2012-09-14T19:00:00.000+0000</td><td>GUEST GUEST</td><td>Tennis Court 1</td><td>275.0</td></tr><tr><td>2012-09-14T14:00:00.000+0000</td><td>GUEST GUEST</td><td>Tennis Court 2</td><td>275.0</td></tr><tr><td>2012-09-14T08:00:00.000+0000</td><td>David Jones</td><td>Tennis Court 2</td><td>230.0</td></tr><tr><td>2012-09-14T11:00:00.000+0000</td><td>Tim Boothe</td><td>Tennis Court 2</td><td>230.0</td></tr><tr><td>2012-09-14T14:00:00.000+0000</td><td>Tim Rownam</td><td>Tennis Court 1</td><td>215.0</td></tr><tr><td>2012-09-14T10:00:00.000+0000</td><td>David Pinker</td><td>Tennis Court 1</td><td>215.0</td></tr><tr><td>2012-09-14T12:30:00.000+0000</td><td>Gerald Butters</td><td>Tennis Court 1</td><td>215.0</td></tr><tr><td>2012-09-14T08:00:00.000+0000</td><td>Burton Tracy</td><td>Tennis Court 1</td><td>215.0</td></tr><tr><td>2012-09-14T17:30:00.000+0000</td><td>Douglas Jones</td><td>Tennis Court 1</td><td>215.0</td></tr><tr><td>2012-09-14T09:30:00.000+0000</td><td>GUEST GUEST</td><td>Squash Court</td><td>150.0</td></tr><tr><td>2012-09-14T15:00:00.000+0000</td><td>GUEST GUEST</td><td>Squash Court</td><td>115.0</td></tr><tr><td>2012-09-14T12:30:00.000+0000</td><td>GUEST GUEST</td><td>Squash Court</td><td>115.0</td></tr><tr><td>2012-09-14T16:00:00.000+0000</td><td>Anne Baker</td><td>Squash Court</td><td>87.0</td></tr><tr><td>2012-09-14T14:00:00.000+0000</td><td>Timothy Baker</td><td>Squash Court</td><td>87.0</td></tr><tr><td>2012-09-14T08:30:00.000+0000</td><td>Anne Baker</td><td>Squash Court</td><td>87.0</td></tr><tr><td>2012-09-14T17:30:00.000+0000</td><td>David Pinker</td><td>Squash Court</td><td>87.0</td></tr><tr><td>2012-09-14T18:00:00.000+0000</td><td>Ponder Stibbons</td><td>Badminton Court</td><td>50.0</td></tr><tr><td>2012-09-14T13:00:00.000+0000</td><td>Darren Smith</td><td>Badminton Court</td><td>50.0</td></tr><tr><td>2012-09-14T11:00:00.000+0000</td><td>Anna Mackenzie</td><td>Badminton Court</td><td>50.0</td></tr><tr><td>2012-09-14T16:00:00.000+0000</td><td>Gerald Butters</td><td>Badminton Court</td><td>50.0</td></tr><tr><td>2012-09-14T08:00:00.000+0000</td><td>Darren Smith</td><td>Badminton Court</td><td>50.0</td></tr></tbody></table></div>"
      ]
     },
     "metadata": {
      "application/vnd.databricks.v1+output": {
       "addedWidgets": {},
       "aggData": [],
       "aggError": "",
       "aggOverflow": false,
       "aggSchema": [],
       "aggSeriesLimitReached": false,
       "aggType": "",
       "arguments": {},
       "columnCustomDisplayInfos": {},
       "data": [
        [
         "2012-09-14T11:00:00.000+0000",
         "GUEST GUEST",
         "Massage Room 2",
         3320
        ],
        [
         "2012-09-14T13:00:00.000+0000",
         "GUEST GUEST",
         "Massage Room 1",
         3160
        ],
        [
         "2012-09-14T16:00:00.000+0000",
         "GUEST GUEST",
         "Massage Room 1",
         3160
        ],
        [
         "2012-09-14T09:00:00.000+0000",
         "GUEST GUEST",
         "Massage Room 1",
         3160
        ],
        [
         "2012-09-14T14:00:00.000+0000",
         "Jemima Farrell",
         "Massage Room 1",
         3039.6
        ],
        [
         "2012-09-14T11:00:00.000+0000",
         "Jemima Farrell",
         "Massage Room 1",
         3019.8
        ],
        [
         "2012-09-14T18:00:00.000+0000",
         "Burton Tracy",
         "Massage Room 1",
         3019.8
        ],
        [
         "2012-09-14T08:00:00.000+0000",
         "Jack Smith",
         "Massage Room 1",
         3019.8
        ],
        [
         "2012-09-14T12:00:00.000+0000",
         "Ponder Stibbons",
         "Massage Room 1",
         3019.8
        ],
        [
         "2012-09-14T09:30:00.000+0000",
         "Florence Bader",
         "Massage Room 2",
         3019.8
        ],
        [
         "2012-09-14T19:00:00.000+0000",
         "Matthew Genting",
         "Massage Room 1",
         3019.8
        ],
        [
         "2012-09-14T17:00:00.000+0000",
         "GUEST GUEST",
         "Tennis Court 2",
         350
        ],
        [
         "2012-09-14T16:00:00.000+0000",
         "GUEST GUEST",
         "Tennis Court 1",
         275
        ],
        [
         "2012-09-14T19:00:00.000+0000",
         "GUEST GUEST",
         "Tennis Court 1",
         275
        ],
        [
         "2012-09-14T14:00:00.000+0000",
         "GUEST GUEST",
         "Tennis Court 2",
         275
        ],
        [
         "2012-09-14T08:00:00.000+0000",
         "David Jones",
         "Tennis Court 2",
         230
        ],
        [
         "2012-09-14T11:00:00.000+0000",
         "Tim Boothe",
         "Tennis Court 2",
         230
        ],
        [
         "2012-09-14T14:00:00.000+0000",
         "Tim Rownam",
         "Tennis Court 1",
         215
        ],
        [
         "2012-09-14T10:00:00.000+0000",
         "David Pinker",
         "Tennis Court 1",
         215
        ],
        [
         "2012-09-14T12:30:00.000+0000",
         "Gerald Butters",
         "Tennis Court 1",
         215
        ],
        [
         "2012-09-14T08:00:00.000+0000",
         "Burton Tracy",
         "Tennis Court 1",
         215
        ],
        [
         "2012-09-14T17:30:00.000+0000",
         "Douglas Jones",
         "Tennis Court 1",
         215
        ],
        [
         "2012-09-14T09:30:00.000+0000",
         "GUEST GUEST",
         "Squash Court",
         150
        ],
        [
         "2012-09-14T15:00:00.000+0000",
         "GUEST GUEST",
         "Squash Court",
         115
        ],
        [
         "2012-09-14T12:30:00.000+0000",
         "GUEST GUEST",
         "Squash Court",
         115
        ],
        [
         "2012-09-14T16:00:00.000+0000",
         "Anne Baker",
         "Squash Court",
         87
        ],
        [
         "2012-09-14T14:00:00.000+0000",
         "Timothy Baker",
         "Squash Court",
         87
        ],
        [
         "2012-09-14T08:30:00.000+0000",
         "Anne Baker",
         "Squash Court",
         87
        ],
        [
         "2012-09-14T17:30:00.000+0000",
         "David Pinker",
         "Squash Court",
         87
        ],
        [
         "2012-09-14T18:00:00.000+0000",
         "Ponder Stibbons",
         "Badminton Court",
         50
        ],
        [
         "2012-09-14T13:00:00.000+0000",
         "Darren Smith",
         "Badminton Court",
         50
        ],
        [
         "2012-09-14T11:00:00.000+0000",
         "Anna Mackenzie",
         "Badminton Court",
         50
        ],
        [
         "2012-09-14T16:00:00.000+0000",
         "Gerald Butters",
         "Badminton Court",
         50
        ],
        [
         "2012-09-14T08:00:00.000+0000",
         "Darren Smith",
         "Badminton Court",
         50
        ]
       ],
       "datasetInfos": [],
       "dbfsResultPath": null,
       "isJsonSchema": true,
       "metadata": {
        "isDbfsCommandResult": false
       },
       "overflow": false,
       "plotOptions": {
        "customPlotOptions": {},
        "displayType": "table",
        "pivotAggregation": null,
        "pivotColumns": null,
        "xColumns": null,
        "yColumns": null
       },
       "removedWidgets": [],
       "schema": [
        {
         "metadata": "{}",
         "name": "starttime",
         "type": "\"timestamp\""
        },
        {
         "metadata": "{}",
         "name": "subscriber_name",
         "type": "\"string\""
        },
        {
         "metadata": "{}",
         "name": "customer",
         "type": "\"string\""
        },
        {
         "metadata": "{}",
         "name": "total_cost",
         "type": "\"double\""
        }
       ],
       "type": "table"
      }
     },
     "output_type": "display_data"
    }
   ],
   "source": [
    "%sql\n",
    "\n",
    "select sub.starttime, sub.subscriber_name, sub.customer, sub.total_cost\n",
    "      \n",
    "from \n",
    "    \n",
    "    (select cast(b.starttime as TIMESTAMP), CONCAT(m.firstname, \" \", m.surname) as subscriber_name, f.name as customer,\n",
    "            (case when b.memid=0 and ((b.slots * f.guestcost) + f.monthlymaintenance) > 30 then ((b.slots * f.guestcost) + f.monthlymaintenance) \n",
    "                  when b.memid>0 and ((b.slots * f.membercost)+ f.monthlymaintenance) > 30 then ((b.slots * f.membercost)+ f.monthlymaintenance) end) as total_cost\n",
    "     from Bookings as b\n",
    "     inner join facilities as f\n",
    "     on b.facid = f.facid\n",
    "     inner join Members as m\n",
    "     on m.memid = b.memid\n",
    "     where (b.starttime Like '2012-09-14%') \n",
    "    ) as sub\n",
    "where (sub.starttime Like '2012-09-14%')\n",
    "group by sub.starttime, sub.subscriber_name, sub.customer, sub.total_cost\n",
    "having sub.total_cost is not null\n",
    "order by sub.total_cost Desc;\n",
    "    "
   ]
  },
  {
   "cell_type": "markdown",
   "metadata": {
    "application/vnd.databricks.v1+cell": {
     "inputWidgets": {},
     "nuid": "f18d51c3-78df-49ae-8486-ff6640da3753",
     "showTitle": false,
     "title": ""
    }
   },
   "source": [
    "Q10: Produce a list of facilities with a total revenue less than 1000.\n",
    "\n",
    "The output should have facility name and total revenue, sorted by revenue.\n",
    "\n",
    "Remember that there's a different cost for guests and members!"
   ]
  },
  {
   "cell_type": "code",
   "execution_count": 0,
   "metadata": {
    "application/vnd.databricks.v1+cell": {
     "inputWidgets": {},
     "nuid": "d0d0ff77-615a-498e-aff3-da01b8e8db80",
     "showTitle": false,
     "title": ""
    }
   },
   "outputs": [
    {
     "data": {
      "text/html": [
       "<style scoped>\n",
       "  .table-result-container {\n",
       "    max-height: 300px;\n",
       "    overflow: auto;\n",
       "  }\n",
       "  table, th, td {\n",
       "    border: 1px solid black;\n",
       "    border-collapse: collapse;\n",
       "  }\n",
       "  th, td {\n",
       "    padding: 5px;\n",
       "  }\n",
       "  th {\n",
       "    text-align: left;\n",
       "  }\n",
       "</style><div class='table-result-container'><table class='table-result'><thead style='background-color: white'><tr><th>facility_name</th><th>total_revenue</th></tr></thead><tbody><tr><td>Table Tennis</td><td>4210.0</td></tr><tr><td>Snooker Table</td><td>6900.0</td></tr><tr><td>Pool Table</td><td>12810.0</td></tr><tr><td>Badminton Court</td><td>21056.5</td></tr><tr><td>Squash Court</td><td>48668.0</td></tr><tr><td>Tennis Court 2</td><td>92110.0</td></tr><tr><td>Tennis Court 1</td><td>95460.0</td></tr><tr><td>Massage Room 2</td><td>347454.6</td></tr><tr><td>Massage Room 1</td><td>1937351.6</td></tr></tbody></table></div>"
      ]
     },
     "metadata": {
      "application/vnd.databricks.v1+output": {
       "addedWidgets": {},
       "aggData": [],
       "aggError": "",
       "aggOverflow": false,
       "aggSchema": [],
       "aggSeriesLimitReached": false,
       "aggType": "",
       "arguments": {},
       "columnCustomDisplayInfos": {},
       "data": [
        [
         "Table Tennis",
         4210
        ],
        [
         "Snooker Table",
         6900
        ],
        [
         "Pool Table",
         12810
        ],
        [
         "Badminton Court",
         21056.5
        ],
        [
         "Squash Court",
         48668
        ],
        [
         "Tennis Court 2",
         92110
        ],
        [
         "Tennis Court 1",
         95460
        ],
        [
         "Massage Room 2",
         347454.6
        ],
        [
         "Massage Room 1",
         1937351.6
        ]
       ],
       "datasetInfos": [],
       "dbfsResultPath": null,
       "isJsonSchema": true,
       "metadata": {
        "isDbfsCommandResult": false
       },
       "overflow": false,
       "plotOptions": {
        "customPlotOptions": {},
        "displayType": "table",
        "pivotAggregation": null,
        "pivotColumns": null,
        "xColumns": null,
        "yColumns": null
       },
       "removedWidgets": [],
       "schema": [
        {
         "metadata": "{}",
         "name": "facility_name",
         "type": "\"string\""
        },
        {
         "metadata": "{}",
         "name": "total_revenue",
         "type": "\"double\""
        }
       ],
       "type": "table"
      }
     },
     "output_type": "display_data"
    }
   ],
   "source": [
    "%sql\n",
    "\n",
    "select subq.facility_name, ROUND(SUM(subq.total_cost),2) as total_revenue\n",
    "from \n",
    "     (select CONCAT(m.firstname, \" \", m.surname) as subscriber_name, f.name as facility_name, \n",
    "            (case when b.memid=0 then ((b.slots * f.guestcost) + f.monthlymaintenance) \n",
    "                  when b.memid>0 then ((b.slots * f.membercost)+ f.monthlymaintenance) end) as total_cost\n",
    "      from Bookings as b\n",
    "      inner join facilities as f\n",
    "      on b.facid = f.facid\n",
    "      inner join Members as m\n",
    "      on m.memid = b.memid\n",
    "      ) as subq\n",
    "group by subq.facility_name\n",
    "order by total_revenue;"
   ]
  },
  {
   "cell_type": "code",
   "execution_count": 0,
   "metadata": {
    "application/vnd.databricks.v1+cell": {
     "inputWidgets": {},
     "nuid": "3e5271a9-501c-443b-a0ac-fd9419caf934",
     "showTitle": false,
     "title": ""
    }
   },
   "outputs": [
    {
     "data": {
      "text/html": [
       "<style scoped>\n",
       "  .ansiout {\n",
       "    display: block;\n",
       "    unicode-bidi: embed;\n",
       "    white-space: pre-wrap;\n",
       "    word-wrap: break-word;\n",
       "    word-break: break-all;\n",
       "    font-family: \"Source Code Pro\", \"Menlo\", monospace;;\n",
       "    font-size: 13px;\n",
       "    color: #555;\n",
       "    margin-left: 4px;\n",
       "    line-height: 19px;\n",
       "  }\n",
       "</style>"
      ]
     },
     "metadata": {
      "application/vnd.databricks.v1+output": {
       "arguments": {},
       "data": "",
       "errorSummary": "Command skipped",
       "errorTraceType": "html",
       "metadata": {},
       "type": "ipynbError"
      }
     },
     "output_type": "display_data"
    }
   ],
   "source": []
  }
 ],
 "metadata": {
  "application/vnd.databricks.v1+notebook": {
   "dashboards": [],
   "language": "python",
   "notebookMetadata": {
    "pythonIndentUnit": 4
   },
   "notebookName": "Kunal_mini_project",
   "notebookOrigID": 1706703604940316,
   "widgets": {}
  },
  "kernelspec": {
   "display_name": "Python 3 (ipykernel)",
   "language": "python",
   "name": "python3"
  },
  "language_info": {
   "codemirror_mode": {
    "name": "ipython",
    "version": 3
   },
   "file_extension": ".py",
   "mimetype": "text/x-python",
   "name": "python",
   "nbconvert_exporter": "python",
   "pygments_lexer": "ipython3",
   "version": "3.9.7"
  }
 },
 "nbformat": 4,
 "nbformat_minor": 1
}
