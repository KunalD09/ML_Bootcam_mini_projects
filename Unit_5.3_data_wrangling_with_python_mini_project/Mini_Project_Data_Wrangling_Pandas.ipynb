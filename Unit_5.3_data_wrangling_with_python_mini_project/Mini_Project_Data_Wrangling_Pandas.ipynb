{
 "cells": [
  {
   "cell_type": "markdown",
   "metadata": {
    "gradient": {
     "editing": false,
     "id": "0ed69616-508f-4253-acf2-a29872a7612a",
     "kernelId": "5cca2d0c-cc22-4544-92fb-d7aa586b99fc"
    }
   },
   "source": [
    "# Mini-Project: Data Wrangling and Transformation with Pandas\n",
    "\n",
    "Working with tabular data is a necessity for anyone with enterprises having a majority of their data in relational databases and flat files. This mini-project is adopted from the excellent tutorial on pandas by Brandon Rhodes which you have watched earlier in the Data Wrangling Unit. In this mini-project, we will be looking at some interesting data based on movie data from the IMDB.\n",
    "\n",
    "This assignment should help you reinforce the concepts you learnt in the curriculum for Data Wrangling and sharpen your skills in using Pandas. Good Luck!"
   ]
  },
  {
   "cell_type": "markdown",
   "metadata": {
    "gradient": {
     "editing": false,
     "id": "de29a6c9-9344-4b57-87f4-319dfc508596",
     "kernelId": "5cca2d0c-cc22-4544-92fb-d7aa586b99fc"
    }
   },
   "source": [
    "### Please make sure you have one of the more recent versions of Pandas"
   ]
  },
  {
   "cell_type": "code",
   "execution_count": 2,
   "metadata": {
    "gradient": {
     "editing": false,
     "execution_count": 1,
     "id": "21f780a8-50f1-45d0-af66-c35030c75932",
     "kernelId": "5cca2d0c-cc22-4544-92fb-d7aa586b99fc"
    }
   },
   "outputs": [],
   "source": [
    "import pandas as pd\n",
    "import matplotlib.pyplot as plt\n",
    "\n",
    "%matplotlib inline"
   ]
  },
  {
   "cell_type": "code",
   "execution_count": 3,
   "metadata": {
    "gradient": {
     "editing": false,
     "execution_count": 2,
     "id": "0a005be2-fb0c-41a3-a602-813041f557d9",
     "kernelId": "5cca2d0c-cc22-4544-92fb-d7aa586b99fc"
    }
   },
   "outputs": [
    {
     "data": {
      "text/plain": [
       "'1.3.4'"
      ]
     },
     "execution_count": 3,
     "metadata": {},
     "output_type": "execute_result"
    }
   ],
   "source": [
    "pd.__version__"
   ]
  },
  {
   "cell_type": "markdown",
   "metadata": {
    "gradient": {
     "editing": false,
     "id": "82afd8f9-041b-4333-bca4-7241b70c7105",
     "kernelId": "5cca2d0c-cc22-4544-92fb-d7aa586b99fc"
    }
   },
   "source": [
    "## Taking a look at the Movies dataset\n",
    "This data shows the movies based on their title and the year of release"
   ]
  },
  {
   "cell_type": "code",
   "execution_count": null,
   "metadata": {
    "gradient": {
     "editing": false,
     "execution_count": 3,
     "id": "cfb3da44-3949-49d3-b01a-85f7dc064c86",
     "kernelId": "5cca2d0c-cc22-4544-92fb-d7aa586b99fc"
    }
   },
   "outputs": [],
   "source": [
    "movies = pd.read_csv('titles.csv')\n",
    "movies.info()"
   ]
  },
  {
   "cell_type": "code",
   "execution_count": null,
   "metadata": {
    "gradient": {
     "editing": false,
     "execution_count": 4,
     "id": "5bfc2fe9-76ef-45ca-a649-4fcf7ea93483",
     "kernelId": "5cca2d0c-cc22-4544-92fb-d7aa586b99fc"
    }
   },
   "outputs": [],
   "source": [
    "movies.head()"
   ]
  },
  {
   "cell_type": "markdown",
   "metadata": {
    "gradient": {
     "editing": false,
     "id": "5c5fc4be-3307-4587-a1a9-583efd7a1352",
     "kernelId": "5cca2d0c-cc22-4544-92fb-d7aa586b99fc"
    }
   },
   "source": [
    "## Taking a look at the Cast dataset\n",
    "\n",
    "This data shows the cast (actors, actresses, supporting roles) for each movie\n",
    "\n",
    "- The attribute `n` basically tells the importance of the cast role, lower the number, more important the role.\n",
    "- Supporting cast usually don't have any value for `n`"
   ]
  },
  {
   "cell_type": "code",
   "execution_count": 4,
   "metadata": {
    "gradient": {
     "editing": false,
     "execution_count": 5,
     "id": "3fe757f0-ed0b-4541-8b73-1fe3920ce3a6",
     "kernelId": "5cca2d0c-cc22-4544-92fb-d7aa586b99fc"
    }
   },
   "outputs": [
    {
     "name": "stdout",
     "output_type": "stream",
     "text": [
      "<class 'pandas.core.frame.DataFrame'>\n",
      "RangeIndex: 3786176 entries, 0 to 3786175\n",
      "Data columns (total 6 columns):\n",
      " #   Column     Dtype  \n",
      "---  ------     -----  \n",
      " 0   title      object \n",
      " 1   year       int64  \n",
      " 2   name       object \n",
      " 3   type       object \n",
      " 4   character  object \n",
      " 5   n          float64\n",
      "dtypes: float64(1), int64(1), object(4)\n",
      "memory usage: 173.3+ MB\n"
     ]
    }
   ],
   "source": [
    "cast = pd.read_csv('cast.csv.zip')\n",
    "cast.info()"
   ]
  },
  {
   "cell_type": "code",
   "execution_count": 5,
   "metadata": {
    "gradient": {
     "editing": false,
     "execution_count": 6,
     "id": "9126fea6-687a-4eef-aabd-036129bfb6fa",
     "kernelId": "5cca2d0c-cc22-4544-92fb-d7aa586b99fc"
    }
   },
   "outputs": [
    {
     "data": {
      "text/html": [
       "<div>\n",
       "<style scoped>\n",
       "    .dataframe tbody tr th:only-of-type {\n",
       "        vertical-align: middle;\n",
       "    }\n",
       "\n",
       "    .dataframe tbody tr th {\n",
       "        vertical-align: top;\n",
       "    }\n",
       "\n",
       "    .dataframe thead th {\n",
       "        text-align: right;\n",
       "    }\n",
       "</style>\n",
       "<table border=\"1\" class=\"dataframe\">\n",
       "  <thead>\n",
       "    <tr style=\"text-align: right;\">\n",
       "      <th></th>\n",
       "      <th>title</th>\n",
       "      <th>year</th>\n",
       "      <th>name</th>\n",
       "      <th>type</th>\n",
       "      <th>character</th>\n",
       "      <th>n</th>\n",
       "    </tr>\n",
       "  </thead>\n",
       "  <tbody>\n",
       "    <tr>\n",
       "      <th>0</th>\n",
       "      <td>Closet Monster</td>\n",
       "      <td>2015</td>\n",
       "      <td>Buffy #1</td>\n",
       "      <td>actor</td>\n",
       "      <td>Buffy 4</td>\n",
       "      <td>31.0</td>\n",
       "    </tr>\n",
       "    <tr>\n",
       "      <th>1</th>\n",
       "      <td>Suuri illusioni</td>\n",
       "      <td>1985</td>\n",
       "      <td>Homo $</td>\n",
       "      <td>actor</td>\n",
       "      <td>Guests</td>\n",
       "      <td>22.0</td>\n",
       "    </tr>\n",
       "    <tr>\n",
       "      <th>2</th>\n",
       "      <td>Battle of the Sexes</td>\n",
       "      <td>2017</td>\n",
       "      <td>$hutter</td>\n",
       "      <td>actor</td>\n",
       "      <td>Bobby Riggs Fan</td>\n",
       "      <td>10.0</td>\n",
       "    </tr>\n",
       "    <tr>\n",
       "      <th>3</th>\n",
       "      <td>Secret in Their Eyes</td>\n",
       "      <td>2015</td>\n",
       "      <td>$hutter</td>\n",
       "      <td>actor</td>\n",
       "      <td>2002 Dodger Fan</td>\n",
       "      <td>NaN</td>\n",
       "    </tr>\n",
       "    <tr>\n",
       "      <th>4</th>\n",
       "      <td>Steve Jobs</td>\n",
       "      <td>2015</td>\n",
       "      <td>$hutter</td>\n",
       "      <td>actor</td>\n",
       "      <td>1988 Opera House Patron</td>\n",
       "      <td>NaN</td>\n",
       "    </tr>\n",
       "    <tr>\n",
       "      <th>...</th>\n",
       "      <td>...</td>\n",
       "      <td>...</td>\n",
       "      <td>...</td>\n",
       "      <td>...</td>\n",
       "      <td>...</td>\n",
       "      <td>...</td>\n",
       "    </tr>\n",
       "    <tr>\n",
       "      <th>95</th>\n",
       "      <td>Who's the Man?</td>\n",
       "      <td>1993</td>\n",
       "      <td>Todd 1</td>\n",
       "      <td>actor</td>\n",
       "      <td>Shorty</td>\n",
       "      <td>10.0</td>\n",
       "    </tr>\n",
       "    <tr>\n",
       "      <th>96</th>\n",
       "      <td>Love Hollywood Style</td>\n",
       "      <td>2006</td>\n",
       "      <td>Mac 10</td>\n",
       "      <td>actor</td>\n",
       "      <td>Himself</td>\n",
       "      <td>NaN</td>\n",
       "    </tr>\n",
       "    <tr>\n",
       "      <th>97</th>\n",
       "      <td>King of the Ville</td>\n",
       "      <td>2011</td>\n",
       "      <td>10Gzy</td>\n",
       "      <td>actor</td>\n",
       "      <td>Crazy</td>\n",
       "      <td>NaN</td>\n",
       "    </tr>\n",
       "    <tr>\n",
       "      <th>98</th>\n",
       "      <td>Big Apple</td>\n",
       "      <td>2002</td>\n",
       "      <td>Angel 11:11</td>\n",
       "      <td>actor</td>\n",
       "      <td>Angel</td>\n",
       "      <td>2.0</td>\n",
       "    </tr>\n",
       "    <tr>\n",
       "      <th>99</th>\n",
       "      <td>Zoolander</td>\n",
       "      <td>2001</td>\n",
       "      <td>Angel 11:11</td>\n",
       "      <td>actor</td>\n",
       "      <td>Funky Loft Guest</td>\n",
       "      <td>86.0</td>\n",
       "    </tr>\n",
       "  </tbody>\n",
       "</table>\n",
       "<p>100 rows × 6 columns</p>\n",
       "</div>"
      ],
      "text/plain": [
       "                   title  year         name   type                character  \\\n",
       "0         Closet Monster  2015     Buffy #1  actor                  Buffy 4   \n",
       "1        Suuri illusioni  1985       Homo $  actor                   Guests   \n",
       "2    Battle of the Sexes  2017      $hutter  actor          Bobby Riggs Fan   \n",
       "3   Secret in Their Eyes  2015      $hutter  actor          2002 Dodger Fan   \n",
       "4             Steve Jobs  2015      $hutter  actor  1988 Opera House Patron   \n",
       "..                   ...   ...          ...    ...                      ...   \n",
       "95        Who's the Man?  1993       Todd 1  actor                   Shorty   \n",
       "96  Love Hollywood Style  2006       Mac 10  actor                  Himself   \n",
       "97     King of the Ville  2011        10Gzy  actor                    Crazy   \n",
       "98             Big Apple  2002  Angel 11:11  actor                    Angel   \n",
       "99             Zoolander  2001  Angel 11:11  actor         Funky Loft Guest   \n",
       "\n",
       "       n  \n",
       "0   31.0  \n",
       "1   22.0  \n",
       "2   10.0  \n",
       "3    NaN  \n",
       "4    NaN  \n",
       "..   ...  \n",
       "95  10.0  \n",
       "96   NaN  \n",
       "97   NaN  \n",
       "98   2.0  \n",
       "99  86.0  \n",
       "\n",
       "[100 rows x 6 columns]"
      ]
     },
     "execution_count": 5,
     "metadata": {},
     "output_type": "execute_result"
    }
   ],
   "source": [
    "cast.head(100)"
   ]
  },
  {
   "cell_type": "markdown",
   "metadata": {
    "gradient": {
     "editing": false,
     "id": "2d78b22f-c8e8-40fa-a760-2de6070ee1e1",
     "kernelId": "5cca2d0c-cc22-4544-92fb-d7aa586b99fc"
    }
   },
   "source": [
    "## Taking a look at the Release dataset\n",
    "\n",
    "This data shows details of when each movie was release in each country with the release date"
   ]
  },
  {
   "cell_type": "code",
   "execution_count": 6,
   "metadata": {
    "gradient": {
     "editing": false,
     "execution_count": 7,
     "id": "ea3cdba7-826f-42de-95b9-da7036096549",
     "kernelId": "5cca2d0c-cc22-4544-92fb-d7aa586b99fc"
    }
   },
   "outputs": [
    {
     "name": "stdout",
     "output_type": "stream",
     "text": [
      "<class 'pandas.core.frame.DataFrame'>\n",
      "RangeIndex: 479488 entries, 0 to 479487\n",
      "Data columns (total 4 columns):\n",
      " #   Column   Non-Null Count   Dtype         \n",
      "---  ------   --------------   -----         \n",
      " 0   title    479488 non-null  object        \n",
      " 1   year     479488 non-null  int64         \n",
      " 2   country  479488 non-null  object        \n",
      " 3   date     479488 non-null  datetime64[ns]\n",
      "dtypes: datetime64[ns](1), int64(1), object(2)\n",
      "memory usage: 14.6+ MB\n"
     ]
    }
   ],
   "source": [
    "release_dates = pd.read_csv('https://raw.githubusercontent.com/springboard-curriculum/mec-mini-projects/master/mec-5.3.10-data-wranging-with-pandas-mini-project/release_dates.csv', parse_dates=['date'], infer_datetime_format=True)\n",
    "release_dates.info()"
   ]
  },
  {
   "cell_type": "code",
   "execution_count": 7,
   "metadata": {
    "gradient": {
     "editing": false,
     "execution_count": 8,
     "id": "c03207e8-330f-497e-a4d4-37051655ac1f",
     "kernelId": "5cca2d0c-cc22-4544-92fb-d7aa586b99fc"
    }
   },
   "outputs": [
    {
     "data": {
      "text/html": [
       "<div>\n",
       "<style scoped>\n",
       "    .dataframe tbody tr th:only-of-type {\n",
       "        vertical-align: middle;\n",
       "    }\n",
       "\n",
       "    .dataframe tbody tr th {\n",
       "        vertical-align: top;\n",
       "    }\n",
       "\n",
       "    .dataframe thead th {\n",
       "        text-align: right;\n",
       "    }\n",
       "</style>\n",
       "<table border=\"1\" class=\"dataframe\">\n",
       "  <thead>\n",
       "    <tr style=\"text-align: right;\">\n",
       "      <th></th>\n",
       "      <th>title</th>\n",
       "      <th>year</th>\n",
       "      <th>country</th>\n",
       "      <th>date</th>\n",
       "    </tr>\n",
       "  </thead>\n",
       "  <tbody>\n",
       "    <tr>\n",
       "      <th>0</th>\n",
       "      <td>#73, Shaanthi Nivaasa</td>\n",
       "      <td>2007</td>\n",
       "      <td>India</td>\n",
       "      <td>2007-06-15</td>\n",
       "    </tr>\n",
       "    <tr>\n",
       "      <th>1</th>\n",
       "      <td>#BKKY</td>\n",
       "      <td>2016</td>\n",
       "      <td>Cambodia</td>\n",
       "      <td>2017-10-12</td>\n",
       "    </tr>\n",
       "    <tr>\n",
       "      <th>2</th>\n",
       "      <td>#Beings</td>\n",
       "      <td>2015</td>\n",
       "      <td>Romania</td>\n",
       "      <td>2015-01-29</td>\n",
       "    </tr>\n",
       "    <tr>\n",
       "      <th>3</th>\n",
       "      <td>#Captured</td>\n",
       "      <td>2017</td>\n",
       "      <td>USA</td>\n",
       "      <td>2017-09-05</td>\n",
       "    </tr>\n",
       "    <tr>\n",
       "      <th>4</th>\n",
       "      <td>#Ewankosau saranghaeyo</td>\n",
       "      <td>2015</td>\n",
       "      <td>Philippines</td>\n",
       "      <td>2015-01-21</td>\n",
       "    </tr>\n",
       "  </tbody>\n",
       "</table>\n",
       "</div>"
      ],
      "text/plain": [
       "                    title  year      country       date\n",
       "0   #73, Shaanthi Nivaasa  2007        India 2007-06-15\n",
       "1                   #BKKY  2016     Cambodia 2017-10-12\n",
       "2                 #Beings  2015      Romania 2015-01-29\n",
       "3               #Captured  2017          USA 2017-09-05\n",
       "4  #Ewankosau saranghaeyo  2015  Philippines 2015-01-21"
      ]
     },
     "execution_count": 7,
     "metadata": {},
     "output_type": "execute_result"
    }
   ],
   "source": [
    "release_dates.head()"
   ]
  },
  {
   "cell_type": "markdown",
   "metadata": {
    "gradient": {
     "editing": false,
     "id": "fd594f43-096e-42ef-865c-ac8d43069a67",
     "kernelId": "5cca2d0c-cc22-4544-92fb-d7aa586b99fc"
    }
   },
   "source": [
    "# Section I - Basic Querying, Filtering and Transformations"
   ]
  },
  {
   "cell_type": "markdown",
   "metadata": {
    "gradient": {
     "editing": false,
     "id": "a4c6a6a0-2a19-4720-b4ed-f4cf3c9ac589",
     "kernelId": "5cca2d0c-cc22-4544-92fb-d7aa586b99fc"
    }
   },
   "source": [
    "### What is the total number of movies?"
   ]
  },
  {
   "cell_type": "code",
   "execution_count": null,
   "metadata": {
    "gradient": {
     "editing": false,
     "execution_count": 10,
     "id": "0ced27a1-8a50-4710-976e-120bb7890d86",
     "kernelId": "5cca2d0c-cc22-4544-92fb-d7aa586b99fc"
    }
   },
   "outputs": [],
   "source": [
    "len(movies)"
   ]
  },
  {
   "cell_type": "markdown",
   "metadata": {
    "gradient": {
     "editing": false,
     "id": "70f817e0-9cee-476c-8d0e-155fc0cab9c8",
     "kernelId": "5cca2d0c-cc22-4544-92fb-d7aa586b99fc"
    }
   },
   "source": [
    "### List all Batman movies ever made"
   ]
  },
  {
   "cell_type": "code",
   "execution_count": null,
   "metadata": {
    "gradient": {
     "editing": false,
     "execution_count": 11,
     "id": "bec73c49-9dde-48ff-9520-57b8228889cc",
     "kernelId": "5cca2d0c-cc22-4544-92fb-d7aa586b99fc"
    }
   },
   "outputs": [],
   "source": [
    "batman_df = movies[movies.title == 'Batman']\n",
    "print('Total Batman Movies:', len(batman_df))\n",
    "batman_df"
   ]
  },
  {
   "cell_type": "markdown",
   "metadata": {
    "gradient": {
     "editing": false,
     "id": "a12a6d4e-3fff-4fb0-a809-2b0466ac081d",
     "kernelId": "5cca2d0c-cc22-4544-92fb-d7aa586b99fc"
    }
   },
   "source": [
    "### List all Batman movies ever made - the right approach"
   ]
  },
  {
   "cell_type": "code",
   "execution_count": null,
   "metadata": {
    "gradient": {
     "editing": false,
     "execution_count": 12,
     "id": "d6f0cdbd-39c4-4cba-a29f-589caa2a2c0d",
     "kernelId": "5cca2d0c-cc22-4544-92fb-d7aa586b99fc"
    }
   },
   "outputs": [],
   "source": [
    "batman_df = movies[movies.title.str.contains('Batman', case=False)]\n",
    "print('Total Batman Movies:', len(batman_df))\n",
    "batman_df.head(10)"
   ]
  },
  {
   "cell_type": "markdown",
   "metadata": {
    "gradient": {
     "editing": false,
     "id": "00e8d908-b305-4a8a-897b-1f17308ef146",
     "kernelId": "5cca2d0c-cc22-4544-92fb-d7aa586b99fc"
    }
   },
   "source": [
    "### Display the top 15 Batman movies in the order they were released"
   ]
  },
  {
   "cell_type": "code",
   "execution_count": null,
   "metadata": {
    "gradient": {
     "editing": false,
     "execution_count": 13,
     "id": "7aa470b6-ce5b-4126-aeec-359b0d6ffba7",
     "kernelId": "5cca2d0c-cc22-4544-92fb-d7aa586b99fc"
    }
   },
   "outputs": [],
   "source": [
    "batman_df.sort_values(by=['year'], ascending=True).iloc[:15]"
   ]
  },
  {
   "cell_type": "markdown",
   "metadata": {
    "gradient": {
     "editing": false,
     "id": "99c82054-d74c-4b49-9e43-7aa936d0ed42",
     "kernelId": "5cca2d0c-cc22-4544-92fb-d7aa586b99fc"
    }
   },
   "source": [
    "### Section I - Q1 : List all the 'Harry Potter' movies from the most recent to the earliest"
   ]
  },
  {
   "cell_type": "code",
   "execution_count": null,
   "metadata": {
    "gradient": {
     "editing": false,
     "execution_count": 14,
     "id": "d05bf2ae-f209-4682-a41f-c208e9626477",
     "kernelId": "5cca2d0c-cc22-4544-92fb-d7aa586b99fc"
    }
   },
   "outputs": [],
   "source": [
    "harry_potter_df = movies[movies.title.str.contains('Harry Potter', case=False)]\n",
    "harry_potter_df.sort_values(by=['year'],ascending=False)"
   ]
  },
  {
   "cell_type": "markdown",
   "metadata": {
    "gradient": {
     "editing": false,
     "id": "829e18e7-3deb-4682-a533-56660d6004e2",
     "kernelId": "5cca2d0c-cc22-4544-92fb-d7aa586b99fc"
    }
   },
   "source": [
    "### How many movies were made in the year 2017?"
   ]
  },
  {
   "cell_type": "code",
   "execution_count": null,
   "metadata": {
    "gradient": {
     "editing": false,
     "execution_count": 15,
     "id": "04fdee97-d9ba-49f5-b3bf-d36899c50495",
     "kernelId": "5cca2d0c-cc22-4544-92fb-d7aa586b99fc"
    }
   },
   "outputs": [],
   "source": [
    "len(movies[movies.year == 2017])"
   ]
  },
  {
   "cell_type": "markdown",
   "metadata": {
    "gradient": {
     "editing": false,
     "id": "a1fa9444-ab87-4db4-87ed-9b782a837a5d",
     "kernelId": "5cca2d0c-cc22-4544-92fb-d7aa586b99fc"
    }
   },
   "source": [
    "### Section I - Q2 : How many movies were made in the year 2015?"
   ]
  },
  {
   "cell_type": "code",
   "execution_count": null,
   "metadata": {
    "gradient": {
     "editing": false,
     "execution_count": 16,
     "id": "42b1a65b-488d-423f-9335-d954a6de7963",
     "kernelId": "5cca2d0c-cc22-4544-92fb-d7aa586b99fc"
    }
   },
   "outputs": [],
   "source": [
    "len(movies[movies.year == 2015])"
   ]
  },
  {
   "cell_type": "markdown",
   "metadata": {
    "gradient": {
     "editing": false,
     "id": "988796cc-9c6e-4960-9736-5ed5e535918a",
     "kernelId": "5cca2d0c-cc22-4544-92fb-d7aa586b99fc"
    }
   },
   "source": [
    "### Section I - Q3 : How many movies were made from 2000 till 2018?\n",
    "- You can chain multiple conditions using OR (`|`) as well as AND (`&`) depending on the condition"
   ]
  },
  {
   "cell_type": "code",
   "execution_count": null,
   "metadata": {
    "gradient": {
     "editing": false,
     "execution_count": 17,
     "id": "0ef8c242-32f8-4ee3-9268-77368af3e1d6",
     "kernelId": "5cca2d0c-cc22-4544-92fb-d7aa586b99fc"
    }
   },
   "outputs": [],
   "source": [
    "len(movies[(movies.year >= 2000) & (movies.year <= 2018)])"
   ]
  },
  {
   "cell_type": "markdown",
   "metadata": {
    "gradient": {
     "editing": false,
     "id": "c2df837f-48d9-42c9-a5a4-447f8dea3a90",
     "kernelId": "5cca2d0c-cc22-4544-92fb-d7aa586b99fc"
    }
   },
   "source": [
    "### Section I - Q4: How many movies are titled \"Hamlet\"?"
   ]
  },
  {
   "cell_type": "code",
   "execution_count": null,
   "metadata": {
    "gradient": {
     "editing": false,
     "execution_count": 18,
     "id": "93578b36-28c4-4390-9251-d751fe410e9a",
     "kernelId": "5cca2d0c-cc22-4544-92fb-d7aa586b99fc"
    }
   },
   "outputs": [],
   "source": [
    "len(movies[movies.title == \"Hamlet\"])"
   ]
  },
  {
   "cell_type": "markdown",
   "metadata": {
    "gradient": {
     "editing": false,
     "id": "e079574f-c7e9-41a0-8f09-1882dece54ba",
     "kernelId": "5cca2d0c-cc22-4544-92fb-d7aa586b99fc"
    }
   },
   "source": [
    "### Section I - Q5: List all movies titled \"Hamlet\" \n",
    "- The movies should only have been released on or after the year 2000\n",
    "- Display the movies based on the year they were released (earliest to most recent)"
   ]
  },
  {
   "cell_type": "code",
   "execution_count": null,
   "metadata": {
    "gradient": {
     "editing": false,
     "execution_count": 19,
     "id": "f2c1fd62-f270-4903-a429-25e6b5b6a338",
     "kernelId": "5cca2d0c-cc22-4544-92fb-d7aa586b99fc"
    }
   },
   "outputs": [],
   "source": [
    "hamlet_df = movies[movies['year'] >= 2000]\n",
    "hamlet_sort_df = hamlet_df[hamlet_df.title.str.contains('Hamlet', case=False)]\n",
    "hamlet_sort_df.sort_values(by=['year'],  ascending=False)"
   ]
  },
  {
   "cell_type": "markdown",
   "metadata": {
    "gradient": {
     "editing": false,
     "id": "9d72b497-5d51-4ba2-b87d-0c7fca95b083",
     "kernelId": "5cca2d0c-cc22-4544-92fb-d7aa586b99fc"
    }
   },
   "source": [
    "### Section I - Q6: How many roles in the movie \"Inception\" are of the supporting cast (extra credits)\n",
    "- supporting cast are NOT ranked by an \"n\" value (NaN)\n",
    "- check for how to filter based on nulls"
   ]
  },
  {
   "cell_type": "code",
   "execution_count": null,
   "metadata": {
    "gradient": {
     "editing": false,
     "execution_count": 33,
     "id": "2fdb448a-2911-447a-ab93-fa98779becc3",
     "kernelId": "5cca2d0c-cc22-4544-92fb-d7aa586b99fc"
    }
   },
   "outputs": [],
   "source": [
    "inception_df = cast[cast.title.str.contains('Inception', case=False)]\n",
    "inception_isnull_df = inception_df[pd.isnull(inception_df['n'])]\n",
    "inception_isnull_df"
   ]
  },
  {
   "cell_type": "markdown",
   "metadata": {
    "gradient": {
     "editing": false,
     "id": "e5c39787-228f-4cd1-89f2-f2d040211c43",
     "kernelId": "5cca2d0c-cc22-4544-92fb-d7aa586b99fc"
    }
   },
   "source": [
    "### Section I - Q7: How many roles in the movie \"Inception\" are of the main cast\n",
    "- main cast always have an 'n' value"
   ]
  },
  {
   "cell_type": "code",
   "execution_count": null,
   "metadata": {
    "gradient": {
     "editing": false,
     "execution_count": 34,
     "id": "bd9dd137-09fc-40ad-85c3-188453360add",
     "kernelId": "5cca2d0c-cc22-4544-92fb-d7aa586b99fc"
    }
   },
   "outputs": [],
   "source": [
    "inception_main_cast_df = cast[cast.title.str.contains('Inception', case=False)]\n",
    "inception_notnull_df = inception_main_cast_df[pd.notnull(inception_main_cast_df['n'])]\n",
    "inception_notnull_df"
   ]
  },
  {
   "cell_type": "markdown",
   "metadata": {
    "gradient": {
     "editing": false,
     "id": "12cfc741-f1c4-46de-b540-23349b57b863",
     "kernelId": "5cca2d0c-cc22-4544-92fb-d7aa586b99fc"
    }
   },
   "source": [
    "### Section I - Q8: Show the top ten cast (actors\\actresses) in the movie \"Inception\" \n",
    "- main cast always have an 'n' value\n",
    "- remember to sort!"
   ]
  },
  {
   "cell_type": "code",
   "execution_count": null,
   "metadata": {
    "gradient": {
     "editing": false,
     "execution_count": 37,
     "id": "9768377b-a052-4a27-a92a-2a13c1ae3806",
     "kernelId": "5cca2d0c-cc22-4544-92fb-d7aa586b99fc"
    }
   },
   "outputs": [],
   "source": [
    "inception_notnull_df.sort_values(by='n').head(10)"
   ]
  },
  {
   "cell_type": "markdown",
   "metadata": {
    "gradient": {
     "editing": false,
     "id": "197fe3de-40b1-4dd7-8ec4-85d6ea025eea",
     "kernelId": "5cca2d0c-cc22-4544-92fb-d7aa586b99fc"
    }
   },
   "source": [
    "### Section I - Q9:\n",
    "\n",
    "(A) List all movies where there was a character 'Albus Dumbledore' \n",
    "\n",
    "(B) Now modify the above to show only the actors who played the character 'Albus Dumbledore'\n",
    "- For Part (B) remember the same actor might play the same role in multiple movies"
   ]
  },
  {
   "cell_type": "code",
   "execution_count": null,
   "metadata": {
    "gradient": {
     "editing": false,
     "execution_count": 44,
     "id": "a9023a6e-978c-46d3-96e4-6c3896c17cfb",
     "kernelId": "5cca2d0c-cc22-4544-92fb-d7aa586b99fc"
    }
   },
   "outputs": [],
   "source": [
    "albus_dumbledore_df = cast[cast['character']=='Albus Dumbledore']\n",
    "print(albus_dumbledore_df)\n",
    "print(\"------------------------------------------------------------------------------------------\")\n",
    "print(albus_dumbledore_df['title'])"
   ]
  },
  {
   "cell_type": "code",
   "execution_count": null,
   "metadata": {
    "gradient": {
     "editing": false,
     "execution_count": 46,
     "id": "52db087e-af99-43ce-bd74-64d9a48d2b17",
     "kernelId": "5cca2d0c-cc22-4544-92fb-d7aa586b99fc"
    }
   },
   "outputs": [],
   "source": [
    "actor_df = albus_dumbledore_df.drop_duplicates(subset='name')\n",
    "actor_df['name']\n"
   ]
  },
  {
   "cell_type": "markdown",
   "metadata": {
    "gradient": {
     "editing": false,
     "id": "72e1006e-93d7-4339-b5a1-d6407f319d27",
     "kernelId": "5cca2d0c-cc22-4544-92fb-d7aa586b99fc"
    }
   },
   "source": [
    "### Section I - Q10:\n",
    "\n",
    "(A) How many roles has 'Keanu Reeves' played throughout his career?\n",
    "\n",
    "(B) List the leading roles that 'Keanu Reeves' played on or after 1999 in order by year."
   ]
  },
  {
   "cell_type": "code",
   "execution_count": null,
   "metadata": {
    "gradient": {
     "editing": true,
     "execution_count": 52,
     "id": "9c53fd4d-851d-4261-b6e1-f2ac385a9dbf",
     "kernelId": "5cca2d0c-cc22-4544-92fb-d7aa586b99fc"
    }
   },
   "outputs": [],
   "source": [
    "keanu_reeves_char_df = cast[cast['name']=='Keanu Reeves'].drop_duplicates(subset='character')\n",
    "print(keanu_reeves_char_df)\n",
    "print(\"\\n\\n************************************************************************************\")\n",
    "char = len(keanu_reeves_char_df['character'])\n",
    "print(\"Keanu Reeves played - {char} character\".format(char=char))\n",
    "print(\"************************************************************************************\")"
   ]
  },
  {
   "cell_type": "code",
   "execution_count": null,
   "metadata": {
    "gradient": {
     "editing": false,
     "id": "8cb602da-67ec-4997-8259-f2808c915898",
     "kernelId": "5cca2d0c-cc22-4544-92fb-d7aa586b99fc"
    }
   },
   "outputs": [],
   "source": [
    "keanu_reeves_not_null_df = keanu_reeves_char_df[pd.notnull(keanu_reeves_char_df['n'])]\n",
    "keanu_reeves_roles_df = keanu_reeves_not_null_df[keanu_reeves_not_null_df['year'] >= 1999].sort_values(by='year')\n",
    "keanu_reeves_roles_df"
   ]
  },
  {
   "cell_type": "markdown",
   "metadata": {
    "gradient": {
     "editing": false,
     "id": "bd14f1e0-98ab-4432-97cd-bd1f2b8a2125",
     "kernelId": "5cca2d0c-cc22-4544-92fb-d7aa586b99fc"
    }
   },
   "source": [
    "### Section I - Q11: \n",
    "\n",
    "(A) List the total number of actor and actress roles available from 1950 - 1960\n",
    "\n",
    "(B) List the total number of actor and actress roles available from 2007 - 2017"
   ]
  },
  {
   "cell_type": "code",
   "execution_count": null,
   "metadata": {
    "gradient": {
     "editing": false,
     "id": "e0d15436-9073-436d-adef-fdabb665a131",
     "kernelId": "5cca2d0c-cc22-4544-92fb-d7aa586b99fc"
    }
   },
   "outputs": [],
   "source": [
    "total_roles1_df = cast[(cast['year'] >= 1950) & (cast['year'] <= 1960)].drop_duplicates(subset='character')\n",
    "#total_roles1_sort_df = total_roles1_df.sort_values(by='year')\n",
    "len(total_roles1_df['character'])"
   ]
  },
  {
   "cell_type": "code",
   "execution_count": null,
   "metadata": {
    "gradient": {
     "editing": false,
     "id": "c5294f96-a2ab-40c2-88f0-04729cc1eb81",
     "kernelId": "5cca2d0c-cc22-4544-92fb-d7aa586b99fc"
    }
   },
   "outputs": [],
   "source": [
    "total_roles2_df = cast[(cast['year'] >= 2007) & (cast['year'] <= 2017)].drop_duplicates(subset='character')\n",
    "#total_roles2_sort_df = total_roles2_df.sort_values(by='year')\n",
    "#total_roles2_sort_df.tail()\n",
    "len(total_roles2_df['character'])"
   ]
  },
  {
   "cell_type": "markdown",
   "metadata": {
    "gradient": {
     "editing": false,
     "id": "777abac0-033c-40e3-a2b0-589dacb17d0a",
     "kernelId": "5cca2d0c-cc22-4544-92fb-d7aa586b99fc"
    }
   },
   "source": [
    "### Section I - Q12: \n",
    "\n",
    "(A) List the total number of leading roles available from 2000 to present\n",
    "\n",
    "(B) List the total number of non-leading roles available from 2000 - present (exclude support cast)\n",
    "\n",
    "(C) List the total number of support\\extra-credit roles available from 2000 - present"
   ]
  },
  {
   "cell_type": "code",
   "execution_count": 60,
   "metadata": {
    "gradient": {
     "editing": false,
     "id": "c6ef8471-a1ff-49b8-ac1b-a54f1ace4d4c",
     "kernelId": "5cca2d0c-cc22-4544-92fb-d7aa586b99fc"
    }
   },
   "outputs": [
    {
     "data": {
      "text/plain": [
       "38919"
      ]
     },
     "execution_count": 60,
     "metadata": {},
     "output_type": "execute_result"
    }
   ],
   "source": [
    "total_roles3_df = cast[(cast['year'] >= 2000) & (cast['n'] == 1.0)]\n",
    "total_roles3_df = total_roles3_df.drop_duplicates(subset='character')\n",
    "total_roles3_df['character'].value_counts().sum()"
   ]
  },
  {
   "cell_type": "code",
   "execution_count": 61,
   "metadata": {
    "gradient": {
     "editing": false,
     "id": "08454ba1-df55-4d4f-88ac-43161b756d56",
     "kernelId": "5cca2d0c-cc22-4544-92fb-d7aa586b99fc"
    }
   },
   "outputs": [
    {
     "data": {
      "text/plain": [
       "473347"
      ]
     },
     "execution_count": 61,
     "metadata": {},
     "output_type": "execute_result"
    }
   ],
   "source": [
    "total_roles4_df = cast[(cast['year'] >= 2000) & (cast['n'] > 1.0)]\n",
    "total_roles4_df = total_roles4_df.drop_duplicates(subset='character')\n",
    "total_roles4_df['character'].value_counts().sum()"
   ]
  },
  {
   "cell_type": "code",
   "execution_count": 62,
   "metadata": {
    "gradient": {
     "editing": false,
     "id": "93a36a52-0a6b-423f-a938-80182d9aaf66",
     "kernelId": "5cca2d0c-cc22-4544-92fb-d7aa586b99fc"
    }
   },
   "outputs": [
    {
     "data": {
      "text/plain": [
       "817502"
      ]
     },
     "execution_count": 62,
     "metadata": {},
     "output_type": "execute_result"
    }
   ],
   "source": [
    "total_roles5_df = cast[(cast['year'] >= 2000)]\n",
    "total_roles5_df = total_roles5_df.drop_duplicates(subset='character')\n",
    "total_supporting_roles_df = pd.isnull(total_roles5_df['character'])\n",
    "total_supporting_roles_df.value_counts().sum()"
   ]
  },
  {
   "cell_type": "markdown",
   "metadata": {
    "gradient": {
     "editing": false,
     "id": "5f9386b5-c5c3-40f9-ab03-0dca45157029",
     "kernelId": "5cca2d0c-cc22-4544-92fb-d7aa586b99fc"
    }
   },
   "source": [
    "# Section II - Aggregations, Transformations and Visualizations"
   ]
  },
  {
   "cell_type": "markdown",
   "metadata": {
    "gradient": {
     "editing": false,
     "id": "a109c03e-96fb-41e8-afee-1b7cc15bb77c",
     "kernelId": "5cca2d0c-cc22-4544-92fb-d7aa586b99fc"
    }
   },
   "source": [
    "## What are the top ten most common movie names of all time?\n"
   ]
  },
  {
   "cell_type": "code",
   "execution_count": null,
   "metadata": {
    "gradient": {
     "editing": false,
     "id": "c12444cd-99b4-4d8f-be3b-be17bb22b700",
     "kernelId": "5cca2d0c-cc22-4544-92fb-d7aa586b99fc"
    }
   },
   "outputs": [],
   "source": [
    "top_ten = movies.title.value_counts()[:10]\n",
    "top_ten"
   ]
  },
  {
   "cell_type": "markdown",
   "metadata": {},
   "source": [
    "### Plot the top ten common movie names of all time"
   ]
  },
  {
   "cell_type": "code",
   "execution_count": null,
   "metadata": {
    "gradient": {
     "id": "87af2474-0319-4f25-91e4-ae952dc52fbf",
     "kernelId": "5cca2d0c-cc22-4544-92fb-d7aa586b99fc"
    }
   },
   "outputs": [],
   "source": [
    "top_ten.plot(kind='barh')"
   ]
  },
  {
   "cell_type": "markdown",
   "metadata": {},
   "source": [
    "### Section II - Q1:  Which years in the 2000s saw the most movies released? (Show top 3)"
   ]
  },
  {
   "cell_type": "code",
   "execution_count": null,
   "metadata": {
    "gradient": {
     "id": "16ff12a8-6115-4b50-93ef-7f66c67e0969",
     "kernelId": "5cca2d0c-cc22-4544-92fb-d7aa586b99fc"
    }
   },
   "outputs": [],
   "source": [
    "released_movies_df = release_dates[release_dates['year'] >= 2000]\n",
    "released_movies_sort_df = released_movies_df['year'].value_counts()[:3]\n",
    "print(released_movies_sort_df)\n",
    "released_movies_sort_df.plot(kind='bar')\n"
   ]
  },
  {
   "cell_type": "markdown",
   "metadata": {},
   "source": [
    "### Section II - Q2: # Plot the total number of films released per-decade (1890, 1900, 1910,....)\n",
    "- Hint: Dividing the year and multiplying with a number might give you the decade the year falls into!\n",
    "- You might need to sort before plotting"
   ]
  },
  {
   "cell_type": "code",
   "execution_count": 259,
   "metadata": {},
   "outputs": [
    {
     "name": "stdout",
     "output_type": "stream",
     "text": [
      "<class 'pandas.core.frame.DataFrame'>\n",
      "RangeIndex: 479488 entries, 0 to 479487\n",
      "Data columns (total 4 columns):\n",
      " #   Column   Non-Null Count   Dtype         \n",
      "---  ------   --------------   -----         \n",
      " 0   title    479488 non-null  object        \n",
      " 1   year     479488 non-null  int64         \n",
      " 2   country  479488 non-null  object        \n",
      " 3   date     479488 non-null  datetime64[ns]\n",
      "dtypes: datetime64[ns](1), int64(1), object(2)\n",
      "memory usage: 14.6+ MB\n"
     ]
    },
    {
     "data": {
      "text/html": [
       "<div>\n",
       "<style scoped>\n",
       "    .dataframe tbody tr th:only-of-type {\n",
       "        vertical-align: middle;\n",
       "    }\n",
       "\n",
       "    .dataframe tbody tr th {\n",
       "        vertical-align: top;\n",
       "    }\n",
       "\n",
       "    .dataframe thead th {\n",
       "        text-align: right;\n",
       "    }\n",
       "</style>\n",
       "<table border=\"1\" class=\"dataframe\">\n",
       "  <thead>\n",
       "    <tr style=\"text-align: right;\">\n",
       "      <th></th>\n",
       "      <th>title</th>\n",
       "      <th>year</th>\n",
       "      <th>country</th>\n",
       "      <th>date</th>\n",
       "    </tr>\n",
       "  </thead>\n",
       "  <tbody>\n",
       "    <tr>\n",
       "      <th>0</th>\n",
       "      <td>#73, Shaanthi Nivaasa</td>\n",
       "      <td>2007</td>\n",
       "      <td>India</td>\n",
       "      <td>2007-06-15</td>\n",
       "    </tr>\n",
       "    <tr>\n",
       "      <th>1</th>\n",
       "      <td>#BKKY</td>\n",
       "      <td>2016</td>\n",
       "      <td>Cambodia</td>\n",
       "      <td>2017-10-12</td>\n",
       "    </tr>\n",
       "    <tr>\n",
       "      <th>2</th>\n",
       "      <td>#Beings</td>\n",
       "      <td>2015</td>\n",
       "      <td>Romania</td>\n",
       "      <td>2015-01-29</td>\n",
       "    </tr>\n",
       "    <tr>\n",
       "      <th>3</th>\n",
       "      <td>#Captured</td>\n",
       "      <td>2017</td>\n",
       "      <td>USA</td>\n",
       "      <td>2017-09-05</td>\n",
       "    </tr>\n",
       "    <tr>\n",
       "      <th>4</th>\n",
       "      <td>#Ewankosau saranghaeyo</td>\n",
       "      <td>2015</td>\n",
       "      <td>Philippines</td>\n",
       "      <td>2015-01-21</td>\n",
       "    </tr>\n",
       "  </tbody>\n",
       "</table>\n",
       "</div>"
      ],
      "text/plain": [
       "                    title  year      country       date\n",
       "0   #73, Shaanthi Nivaasa  2007        India 2007-06-15\n",
       "1                   #BKKY  2016     Cambodia 2017-10-12\n",
       "2                 #Beings  2015      Romania 2015-01-29\n",
       "3               #Captured  2017          USA 2017-09-05\n",
       "4  #Ewankosau saranghaeyo  2015  Philippines 2015-01-21"
      ]
     },
     "execution_count": 259,
     "metadata": {},
     "output_type": "execute_result"
    }
   ],
   "source": [
    "release_dates = pd.read_csv('https://raw.githubusercontent.com/springboard-curriculum/mec-mini-projects/master/mec-5.3.10-data-wranging-with-pandas-mini-project/release_dates.csv', parse_dates=['date'], infer_datetime_format=True)\n",
    "release_dates.info()\n",
    "release_dates.head()"
   ]
  },
  {
   "cell_type": "code",
   "execution_count": null,
   "metadata": {
    "gradient": {
     "id": "9fc8b9dd-d935-4522-a451-703db8ebfc46",
     "kernelId": "5cca2d0c-cc22-4544-92fb-d7aa586b99fc"
    }
   },
   "outputs": [],
   "source": [
    "decade = []\n",
    "df_decade = release_dates\n",
    "\n",
    "\n",
    "for key, val in df_decade['year'].iteritems():\n",
    "    ceiling_decade = 0\n",
    "    ceiling_decade = (val - (val % 10)) + 10\n",
    "    decade.append(ceiling_decade)\n",
    "    \n",
    "df_decade['release_decade_year'] = decade\n",
    "\n",
    "\n",
    "df_decade['release_decade_year'].value_counts().sort_values().plot(kind='bar')\n",
    "plt.ylabel(\"Number of Movies released in the decade\")\n",
    "plt.xlabel(\"Decade\")\n",
    "\n"
   ]
  },
  {
   "cell_type": "markdown",
   "metadata": {},
   "source": [
    "### Section II - Q3: \n",
    "\n",
    "(A) What are the top 10 most common character names in movie history?\n",
    "\n",
    "(B) Who are the top 10 people most often credited as \"Herself\" in movie history?\n",
    "\n",
    "(C) Who are the top 10 people most often credited as \"Himself\" in movie history?"
   ]
  },
  {
   "cell_type": "code",
   "execution_count": null,
   "metadata": {
    "gradient": {
     "id": "efc09fba-7f6c-4e30-92f9-667467276300",
     "kernelId": "5cca2d0c-cc22-4544-92fb-d7aa586b99fc"
    }
   },
   "outputs": [],
   "source": [
    "history_df = release_dates\n",
    "history_top10_df = cast['character'].value_counts()\n",
    "history_top10_df.head(10)"
   ]
  },
  {
   "cell_type": "code",
   "execution_count": null,
   "metadata": {
    "gradient": {
     "id": "d39eda45-3845-490d-8178-fea44ed25f1f",
     "kernelId": "5cca2d0c-cc22-4544-92fb-d7aa586b99fc"
    }
   },
   "outputs": [],
   "source": [
    "actress_top10_roles_freq = cast[cast['character'] == 'Herself']\n",
    "actress_top10_roles_freq['name'].value_counts()[:10]"
   ]
  },
  {
   "cell_type": "code",
   "execution_count": null,
   "metadata": {
    "gradient": {
     "id": "af5a9a2e-9289-45a3-bcc3-b91b7188897e",
     "kernelId": "5cca2d0c-cc22-4544-92fb-d7aa586b99fc"
    }
   },
   "outputs": [],
   "source": [
    "actors_top10_roles_freq = cast[cast['character'] == 'Himself']\n",
    "actors_top10_roles_freq['name'].value_counts()[:10]"
   ]
  },
  {
   "cell_type": "markdown",
   "metadata": {},
   "source": [
    "### Section II - Q4: \n",
    "\n",
    "(A) What are the top 10 most frequent roles that start with the word \"Zombie\"?\n",
    "\n",
    "(B) What are the top 10 most frequent roles that start with the word \"Police\"?\n",
    "\n",
    "- Hint: The `startswith()` function might be useful"
   ]
  },
  {
   "cell_type": "code",
   "execution_count": null,
   "metadata": {
    "gradient": {
     "id": "16d79542-5e92-4543-861c-de1c660df44e",
     "kernelId": "5cca2d0c-cc22-4544-92fb-d7aa586b99fc"
    }
   },
   "outputs": [],
   "source": [
    "zombie_role = []\n",
    "for idx in cast.index:\n",
    "    if cast['title'][idx].startswith('Zombie'):\n",
    "        #print ((cast['title'][idx], cast['character'][idx]))\n",
    "        zombie_role.append(cast['character'][idx])\n",
    "        #zombie_df[idx] = release_dates[idx]\n",
    "\n",
    "zombie_role_series = pd.Series(zombie_role)\n",
    "print(\"The top 10 most frequent roles that start with Zombie are \\n\\n\",zombie_role_series.value_counts()[:10])\n",
    "#zombie_df['character'].value_counts()[:10]"
   ]
  },
  {
   "cell_type": "code",
   "execution_count": null,
   "metadata": {
    "gradient": {
     "id": "6915d877-72ad-4ede-81be-30d2ac1229ec",
     "kernelId": "5cca2d0c-cc22-4544-92fb-d7aa586b99fc"
    }
   },
   "outputs": [],
   "source": [
    "police_role = []\n",
    "\n",
    "for ind in cast.index:\n",
    "    if cast['title'][ind].startswith('Police'):\n",
    "        police_role.append(cast['character'][idx])\n",
    "\n",
    "police_role_series = pd.Series(police_role)\n",
    "print(\"The top 10 most frequent roles that start with Police are \\n\\n\",police_role_series.value_counts()[:10])"
   ]
  },
  {
   "cell_type": "markdown",
   "metadata": {},
   "source": [
    "### Section II - Q5: Plot how many roles 'Keanu Reeves' has played in each year of his career."
   ]
  },
  {
   "cell_type": "code",
   "execution_count": null,
   "metadata": {
    "gradient": {
     "id": "97b07569-8612-439a-91a3-e852ca65293f",
     "kernelId": "5cca2d0c-cc22-4544-92fb-d7aa586b99fc"
    }
   },
   "outputs": [],
   "source": [
    "keanu_reeves_role_df = cast[cast['name'] == 'Keanu Reeves']\n",
    "keanu_reeves_role_sort_df['year'].value_counts().sort_values().plot(kind='bar')"
   ]
  },
  {
   "cell_type": "markdown",
   "metadata": {},
   "source": [
    "### Section II - Q6: Plot the cast positions (n-values) of Keanu Reeve's roles through his career over the years.\n"
   ]
  },
  {
   "cell_type": "code",
   "execution_count": null,
   "metadata": {
    "gradient": {
     "id": "c648658c-a59d-4416-9c3b-ac768ff8f37a",
     "kernelId": "5cca2d0c-cc22-4544-92fb-d7aa586b99fc"
    }
   },
   "outputs": [],
   "source": [
    "keanu_reeves_not_null_df = keanu_reeves_char_df[pd.notnull(keanu_reeves_char_df['n'])]\n",
    "keanu_reeves_not_null_df['n'].sort_values().value_counts().plot(kind='bar')"
   ]
  },
  {
   "cell_type": "markdown",
   "metadata": {},
   "source": [
    "### Section II - Q7: Plot the number of \"Hamlet\" films made by each decade"
   ]
  },
  {
   "cell_type": "code",
   "execution_count": null,
   "metadata": {
    "gradient": {
     "id": "c936f169-43e8-44eb-924c-a3eec760d8d3",
     "kernelId": "5cca2d0c-cc22-4544-92fb-d7aa586b99fc"
    }
   },
   "outputs": [],
   "source": [
    "hamlet = []\n",
    "df_hamlet = release_dates[release_dates['title'] == 'Hamlet']\n",
    "\n",
    "\n",
    "for key, val in df_hamlet['year'].iteritems():\n",
    "    ceiling_decade = 0\n",
    "    ceiling_decade = (val - (val % 10)) + 10\n",
    "    hamlet.append(ceiling_decade)\n",
    "    \n",
    "df_hamlet['release_decade_year'] = hamlet\n",
    "\n",
    "#print((df_hamlet['title'],df_hamlet['year']))\n",
    "\n",
    "df_hamlet['release_decade_year'].value_counts().sort_values().plot(kind='bar')\n",
    "plt.ylabel(\"Number of Hamlet Movies released in the decade\")\n",
    "plt.xlabel(\"Decade\")\n"
   ]
  },
  {
   "cell_type": "markdown",
   "metadata": {},
   "source": [
    "### Section II - Q8: \n",
    "\n",
    "(A) How many leading roles were available to both actors and actresses, in the 1960s (1960-1969)?\n",
    "\n",
    "(B) How many leading roles were available to both actors and actresses, in the 2000s (2000-2009)?\n",
    "\n",
    "- Hint: A specific value of n might indicate a leading role"
   ]
  },
  {
   "cell_type": "code",
   "execution_count": 58,
   "metadata": {
    "gradient": {
     "id": "d129cb88-f737-4169-b079-a47f3ae0c130",
     "kernelId": "5cca2d0c-cc22-4544-92fb-d7aa586b99fc"
    }
   },
   "outputs": [
    {
     "data": {
      "text/plain": [
       "9908"
      ]
     },
     "execution_count": 58,
     "metadata": {},
     "output_type": "execute_result"
    }
   ],
   "source": [
    "leading_roles_df = cast[(cast['year'] >= 1960) & (cast['year'] <= 1969) & (cast['n'] == 1.0)]\n",
    "leading_roles_unique_df = leading_roles_df.drop_duplicates(subset='character')\n",
    "leading_roles_unique_df['character'].value_counts().sum()"
   ]
  },
  {
   "cell_type": "code",
   "execution_count": 59,
   "metadata": {
    "gradient": {
     "id": "fd4eb8fd-78bb-4593-8880-ad0befba497e",
     "kernelId": "5cca2d0c-cc22-4544-92fb-d7aa586b99fc"
    }
   },
   "outputs": [
    {
     "data": {
      "text/plain": [
       "19154"
      ]
     },
     "execution_count": 59,
     "metadata": {},
     "output_type": "execute_result"
    }
   ],
   "source": [
    "leading_roles_df1 = cast[(cast['year'] >= 2000) & (cast['year'] <= 2009) & (cast['n'] == 1.0)]\n",
    "leading_roles_unique_df1 = leading_roles_df1.drop_duplicates(subset='character')\n",
    "leading_roles_unique_df1['character'].value_counts().sum()"
   ]
  },
  {
   "cell_type": "markdown",
   "metadata": {},
   "source": [
    "### Section II - Q9: List, in order by year, each of the films in which Frank Oz has played more than 1 role."
   ]
  },
  {
   "cell_type": "code",
   "execution_count": null,
   "metadata": {
    "gradient": {
     "id": "90277b74-3e82-44f3-b1b1-1f65abbc4b7b",
     "kernelId": "5cca2d0c-cc22-4544-92fb-d7aa586b99fc"
    }
   },
   "outputs": [],
   "source": [
    "frank_role_df = cast[cast['name'] == 'Frank Oz'].drop_duplicates(subset='character')\n",
    "\n",
    "\n",
    "frank_role_count_df = frank_role_df[frank_role_df['title'].duplicated(keep=False)]\n",
    "\n",
    "#frank_role_count_df\n",
    "#print(frank_role_df.sort_values(by='year'))\n",
    "frank_role_count_df = frank_role_count_df.rename_axis('Myidx')\n",
    "frank_role_sort_df = frank_role_count_df.sort_values(by=['year','Myidx'])\n",
    "frank_role_sort_df"
   ]
  },
  {
   "cell_type": "markdown",
   "metadata": {},
   "source": [
    "### Section II - Q10: List each of the characters that Frank Oz has portrayed at least twice"
   ]
  },
  {
   "cell_type": "code",
   "execution_count": null,
   "metadata": {
    "gradient": {
     "id": "83184716-6a60-4e80-bbf5-ee1edbf7c74d",
     "kernelId": "5cca2d0c-cc22-4544-92fb-d7aa586b99fc"
    }
   },
   "outputs": [],
   "source": [
    "frank_role_freq_df = cast[cast['name'] == 'Frank Oz']\n",
    "frank_role_freq_df = frank_role_freq_df[frank_role_freq_df['character'].duplicated(keep=False)]\n",
    "frank_role_freq_df['character'].value_counts()"
   ]
  },
  {
   "cell_type": "markdown",
   "metadata": {},
   "source": [
    "# Section III - Advanced Merging, Querying and Visualizations"
   ]
  },
  {
   "cell_type": "markdown",
   "metadata": {},
   "source": [
    "## Make a bar plot with the following conditions\n",
    "- Frequency of the number of movies with \"Christmas\" in their title \n",
    "- Movies should be such that they are released in the USA.\n",
    "- Show the frequency plot by month"
   ]
  },
  {
   "cell_type": "code",
   "execution_count": null,
   "metadata": {
    "gradient": {
     "id": "9bbecb33-ab62-441b-be03-16a4b210f362",
     "kernelId": "5cca2d0c-cc22-4544-92fb-d7aa586b99fc"
    }
   },
   "outputs": [],
   "source": [
    "christmas = release_dates[(release_dates.title.str.contains('Christmas')) & (release_dates.country == 'USA')]\n",
    "christmas.date.dt.month.value_counts().sort_index().plot(kind='bar')"
   ]
  },
  {
   "cell_type": "markdown",
   "metadata": {},
   "source": [
    "### Section III - Q1: Make a bar plot with the following conditions\n",
    "- Frequency of the number of movies with \"Summer\" in their title \n",
    "- Movies should be such that they are released in the USA.\n",
    "- Show the frequency plot by month"
   ]
  },
  {
   "cell_type": "code",
   "execution_count": null,
   "metadata": {
    "gradient": {
     "id": "788285e1-796e-4f33-a34e-ce776904eb01",
     "kernelId": "5cca2d0c-cc22-4544-92fb-d7aa586b99fc"
    }
   },
   "outputs": [],
   "source": [
    "summer = release_dates[(release_dates.title.str.contains('Summer')) & (release_dates.country == 'USA')]\n",
    "summer.date.dt.month.value_counts().sort_index().plot(kind='bar')"
   ]
  },
  {
   "cell_type": "markdown",
   "metadata": {},
   "source": [
    "### Section III - Q2: Make a bar plot with the following conditions\n",
    "- Frequency of the number of movies with \"Action\" in their title \n",
    "- Movies should be such that they are released in the USA.\n",
    "- Show the frequency plot by week"
   ]
  },
  {
   "cell_type": "code",
   "execution_count": null,
   "metadata": {
    "gradient": {
     "id": "8fe24141-bf24-4d8e-bd33-2abaa8400147",
     "kernelId": "5cca2d0c-cc22-4544-92fb-d7aa586b99fc"
    }
   },
   "outputs": [],
   "source": [
    "action = release_dates[(release_dates.title.str.contains('Action')) & (release_dates.country == 'USA')]\n",
    "#print(action)\n",
    "action.date.dt.week.value_counts().sort_index().plot(kind='bar')"
   ]
  },
  {
   "cell_type": "markdown",
   "metadata": {},
   "source": [
    "### Section III - Q3: Show all the movies in which Keanu Reeves has played the lead role along with their   release date in the USA sorted by the date of release\n",
    "- Hint: You might need to join or merge two datasets!"
   ]
  },
  {
   "cell_type": "code",
   "execution_count": 8,
   "metadata": {},
   "outputs": [
    {
     "data": {
      "text/html": [
       "<div>\n",
       "<style scoped>\n",
       "    .dataframe tbody tr th:only-of-type {\n",
       "        vertical-align: middle;\n",
       "    }\n",
       "\n",
       "    .dataframe tbody tr th {\n",
       "        vertical-align: top;\n",
       "    }\n",
       "\n",
       "    .dataframe thead th {\n",
       "        text-align: right;\n",
       "    }\n",
       "</style>\n",
       "<table border=\"1\" class=\"dataframe\">\n",
       "  <thead>\n",
       "    <tr style=\"text-align: right;\">\n",
       "      <th></th>\n",
       "      <th>title</th>\n",
       "      <th>year</th>\n",
       "      <th>country</th>\n",
       "      <th>date</th>\n",
       "    </tr>\n",
       "  </thead>\n",
       "  <tbody>\n",
       "    <tr>\n",
       "      <th>0</th>\n",
       "      <td>#73, Shaanthi Nivaasa</td>\n",
       "      <td>2007</td>\n",
       "      <td>India</td>\n",
       "      <td>2007-06-15</td>\n",
       "    </tr>\n",
       "    <tr>\n",
       "      <th>1</th>\n",
       "      <td>#BKKY</td>\n",
       "      <td>2016</td>\n",
       "      <td>Cambodia</td>\n",
       "      <td>2017-10-12</td>\n",
       "    </tr>\n",
       "    <tr>\n",
       "      <th>2</th>\n",
       "      <td>#Beings</td>\n",
       "      <td>2015</td>\n",
       "      <td>Romania</td>\n",
       "      <td>2015-01-29</td>\n",
       "    </tr>\n",
       "    <tr>\n",
       "      <th>3</th>\n",
       "      <td>#Captured</td>\n",
       "      <td>2017</td>\n",
       "      <td>USA</td>\n",
       "      <td>2017-09-05</td>\n",
       "    </tr>\n",
       "    <tr>\n",
       "      <th>4</th>\n",
       "      <td>#Ewankosau saranghaeyo</td>\n",
       "      <td>2015</td>\n",
       "      <td>Philippines</td>\n",
       "      <td>2015-01-21</td>\n",
       "    </tr>\n",
       "  </tbody>\n",
       "</table>\n",
       "</div>"
      ],
      "text/plain": [
       "                    title  year      country       date\n",
       "0   #73, Shaanthi Nivaasa  2007        India 2007-06-15\n",
       "1                   #BKKY  2016     Cambodia 2017-10-12\n",
       "2                 #Beings  2015      Romania 2015-01-29\n",
       "3               #Captured  2017          USA 2017-09-05\n",
       "4  #Ewankosau saranghaeyo  2015  Philippines 2015-01-21"
      ]
     },
     "execution_count": 8,
     "metadata": {},
     "output_type": "execute_result"
    }
   ],
   "source": [
    "release_dates = pd.read_csv('https://raw.githubusercontent.com/springboard-curriculum/mec-mini-projects/master/mec-5.3.10-data-wranging-with-pandas-mini-project/release_dates.csv', parse_dates=['date'], infer_datetime_format=True)\n",
    "release_dates.info()\n",
    "release_dates.head()"
   ]
  },
  {
   "cell_type": "code",
   "execution_count": 9,
   "metadata": {},
   "outputs": [
    {
     "data": {
      "text/html": [
       "<div>\n",
       "<style scoped>\n",
       "    .dataframe tbody tr th:only-of-type {\n",
       "        vertical-align: middle;\n",
       "    }\n",
       "\n",
       "    .dataframe tbody tr th {\n",
       "        vertical-align: top;\n",
       "    }\n",
       "\n",
       "    .dataframe thead th {\n",
       "        text-align: right;\n",
       "    }\n",
       "</style>\n",
       "<table border=\"1\" class=\"dataframe\">\n",
       "  <thead>\n",
       "    <tr style=\"text-align: right;\">\n",
       "      <th></th>\n",
       "      <th>title</th>\n",
       "      <th>year</th>\n",
       "      <th>name</th>\n",
       "      <th>type</th>\n",
       "      <th>character</th>\n",
       "      <th>n</th>\n",
       "    </tr>\n",
       "  </thead>\n",
       "  <tbody>\n",
       "    <tr>\n",
       "      <th>0</th>\n",
       "      <td>Closet Monster</td>\n",
       "      <td>2015</td>\n",
       "      <td>Buffy #1</td>\n",
       "      <td>actor</td>\n",
       "      <td>Buffy 4</td>\n",
       "      <td>31.0</td>\n",
       "    </tr>\n",
       "    <tr>\n",
       "      <th>1</th>\n",
       "      <td>Suuri illusioni</td>\n",
       "      <td>1985</td>\n",
       "      <td>Homo $</td>\n",
       "      <td>actor</td>\n",
       "      <td>Guests</td>\n",
       "      <td>22.0</td>\n",
       "    </tr>\n",
       "    <tr>\n",
       "      <th>2</th>\n",
       "      <td>Battle of the Sexes</td>\n",
       "      <td>2017</td>\n",
       "      <td>$hutter</td>\n",
       "      <td>actor</td>\n",
       "      <td>Bobby Riggs Fan</td>\n",
       "      <td>10.0</td>\n",
       "    </tr>\n",
       "    <tr>\n",
       "      <th>3</th>\n",
       "      <td>Secret in Their Eyes</td>\n",
       "      <td>2015</td>\n",
       "      <td>$hutter</td>\n",
       "      <td>actor</td>\n",
       "      <td>2002 Dodger Fan</td>\n",
       "      <td>NaN</td>\n",
       "    </tr>\n",
       "    <tr>\n",
       "      <th>4</th>\n",
       "      <td>Steve Jobs</td>\n",
       "      <td>2015</td>\n",
       "      <td>$hutter</td>\n",
       "      <td>actor</td>\n",
       "      <td>1988 Opera House Patron</td>\n",
       "      <td>NaN</td>\n",
       "    </tr>\n",
       "  </tbody>\n",
       "</table>\n",
       "</div>"
      ],
      "text/plain": [
       "                  title  year      name   type                character     n\n",
       "0        Closet Monster  2015  Buffy #1  actor                  Buffy 4  31.0\n",
       "1       Suuri illusioni  1985    Homo $  actor                   Guests  22.0\n",
       "2   Battle of the Sexes  2017   $hutter  actor          Bobby Riggs Fan  10.0\n",
       "3  Secret in Their Eyes  2015   $hutter  actor          2002 Dodger Fan   NaN\n",
       "4            Steve Jobs  2015   $hutter  actor  1988 Opera House Patron   NaN"
      ]
     },
     "execution_count": 9,
     "metadata": {},
     "output_type": "execute_result"
    }
   ],
   "source": [
    "cast.head()"
   ]
  },
  {
   "cell_type": "code",
   "execution_count": 20,
   "metadata": {
    "gradient": {
     "id": "6dfa033a-6d60-4f11-91b8-813ec675a25b",
     "kernelId": "5cca2d0c-cc22-4544-92fb-d7aa586b99fc"
    }
   },
   "outputs": [
    {
     "data": {
      "text/html": [
       "<div>\n",
       "<style scoped>\n",
       "    .dataframe tbody tr th:only-of-type {\n",
       "        vertical-align: middle;\n",
       "    }\n",
       "\n",
       "    .dataframe tbody tr th {\n",
       "        vertical-align: top;\n",
       "    }\n",
       "\n",
       "    .dataframe thead th {\n",
       "        text-align: right;\n",
       "    }\n",
       "</style>\n",
       "<table border=\"1\" class=\"dataframe\">\n",
       "  <thead>\n",
       "    <tr style=\"text-align: right;\">\n",
       "      <th></th>\n",
       "      <th>title</th>\n",
       "      <th>year</th>\n",
       "      <th>name</th>\n",
       "      <th>type</th>\n",
       "      <th>character</th>\n",
       "      <th>n</th>\n",
       "      <th>country</th>\n",
       "      <th>date</th>\n",
       "    </tr>\n",
       "  </thead>\n",
       "  <tbody>\n",
       "    <tr>\n",
       "      <th>0</th>\n",
       "      <td>Closet Monster</td>\n",
       "      <td>2015</td>\n",
       "      <td>Buffy #1</td>\n",
       "      <td>actor</td>\n",
       "      <td>Buffy 4</td>\n",
       "      <td>31.0</td>\n",
       "      <td>Taiwan</td>\n",
       "      <td>2016-05-27</td>\n",
       "    </tr>\n",
       "    <tr>\n",
       "      <th>1</th>\n",
       "      <td>Closet Monster</td>\n",
       "      <td>2015</td>\n",
       "      <td>Buffy #1</td>\n",
       "      <td>actor</td>\n",
       "      <td>Buffy 4</td>\n",
       "      <td>31.0</td>\n",
       "      <td>Germany</td>\n",
       "      <td>2016-10-06</td>\n",
       "    </tr>\n",
       "    <tr>\n",
       "      <th>2</th>\n",
       "      <td>Closet Monster</td>\n",
       "      <td>2015</td>\n",
       "      <td>Buffy #1</td>\n",
       "      <td>actor</td>\n",
       "      <td>Buffy 4</td>\n",
       "      <td>31.0</td>\n",
       "      <td>France</td>\n",
       "      <td>2017-12-13</td>\n",
       "    </tr>\n",
       "    <tr>\n",
       "      <th>3</th>\n",
       "      <td>Suuri illusioni</td>\n",
       "      <td>1985</td>\n",
       "      <td>Homo $</td>\n",
       "      <td>actor</td>\n",
       "      <td>Guests</td>\n",
       "      <td>22.0</td>\n",
       "      <td>Finland</td>\n",
       "      <td>1985-11-01</td>\n",
       "    </tr>\n",
       "    <tr>\n",
       "      <th>4</th>\n",
       "      <td>Suuri illusioni</td>\n",
       "      <td>1985</td>\n",
       "      <td>Homo $</td>\n",
       "      <td>actor</td>\n",
       "      <td>Guests</td>\n",
       "      <td>22.0</td>\n",
       "      <td>Denmark</td>\n",
       "      <td>1987-09-21</td>\n",
       "    </tr>\n",
       "  </tbody>\n",
       "</table>\n",
       "</div>"
      ],
      "text/plain": [
       "             title  year      name   type character     n  country       date\n",
       "0   Closet Monster  2015  Buffy #1  actor   Buffy 4  31.0   Taiwan 2016-05-27\n",
       "1   Closet Monster  2015  Buffy #1  actor   Buffy 4  31.0  Germany 2016-10-06\n",
       "2   Closet Monster  2015  Buffy #1  actor   Buffy 4  31.0   France 2017-12-13\n",
       "3  Suuri illusioni  1985    Homo $  actor    Guests  22.0  Finland 1985-11-01\n",
       "4  Suuri illusioni  1985    Homo $  actor    Guests  22.0  Denmark 1987-09-21"
      ]
     },
     "execution_count": 20,
     "metadata": {},
     "output_type": "execute_result"
    }
   ],
   "source": [
    "cast_rel_df = cast.merge(release_dates, on=['title','year'], how='left')\n",
    "cast_rel_df.head()"
   ]
  },
  {
   "cell_type": "code",
   "execution_count": 53,
   "metadata": {},
   "outputs": [
    {
     "data": {
      "text/html": [
       "<div>\n",
       "<style scoped>\n",
       "    .dataframe tbody tr th:only-of-type {\n",
       "        vertical-align: middle;\n",
       "    }\n",
       "\n",
       "    .dataframe tbody tr th {\n",
       "        vertical-align: top;\n",
       "    }\n",
       "\n",
       "    .dataframe thead th {\n",
       "        text-align: right;\n",
       "    }\n",
       "</style>\n",
       "<table border=\"1\" class=\"dataframe\">\n",
       "  <thead>\n",
       "    <tr style=\"text-align: right;\">\n",
       "      <th></th>\n",
       "      <th>title</th>\n",
       "      <th>year</th>\n",
       "      <th>name</th>\n",
       "      <th>type</th>\n",
       "      <th>character</th>\n",
       "      <th>n</th>\n",
       "      <th>country</th>\n",
       "      <th>date</th>\n",
       "    </tr>\n",
       "  </thead>\n",
       "  <tbody>\n",
       "    <tr>\n",
       "      <th>10726175</th>\n",
       "      <td>River's Edge</td>\n",
       "      <td>1986</td>\n",
       "      <td>Keanu Reeves</td>\n",
       "      <td>actor</td>\n",
       "      <td>Matt</td>\n",
       "      <td>2.0</td>\n",
       "      <td>USA</td>\n",
       "      <td>1987-05-08</td>\n",
       "    </tr>\n",
       "    <tr>\n",
       "      <th>10726692</th>\n",
       "      <td>The Night Before</td>\n",
       "      <td>1988</td>\n",
       "      <td>Keanu Reeves</td>\n",
       "      <td>actor</td>\n",
       "      <td>Winston Connelly</td>\n",
       "      <td>1.0</td>\n",
       "      <td>USA</td>\n",
       "      <td>1988-04-15</td>\n",
       "    </tr>\n",
       "    <tr>\n",
       "      <th>10726152</th>\n",
       "      <td>Permanent Record</td>\n",
       "      <td>1988</td>\n",
       "      <td>Keanu Reeves</td>\n",
       "      <td>actor</td>\n",
       "      <td>Chris Townsend</td>\n",
       "      <td>6.0</td>\n",
       "      <td>USA</td>\n",
       "      <td>1988-04-22</td>\n",
       "    </tr>\n",
       "    <tr>\n",
       "      <th>10725633</th>\n",
       "      <td>Bill &amp; Ted's Excellent Adventure</td>\n",
       "      <td>1989</td>\n",
       "      <td>Keanu Reeves</td>\n",
       "      <td>actor</td>\n",
       "      <td>Ted</td>\n",
       "      <td>1.0</td>\n",
       "      <td>USA</td>\n",
       "      <td>1989-02-17</td>\n",
       "    </tr>\n",
       "    <tr>\n",
       "      <th>10725745</th>\n",
       "      <td>Dangerous Liaisons</td>\n",
       "      <td>1988</td>\n",
       "      <td>Keanu Reeves</td>\n",
       "      <td>actor</td>\n",
       "      <td>Chevalier Danceny</td>\n",
       "      <td>5.0</td>\n",
       "      <td>USA</td>\n",
       "      <td>1989-02-24</td>\n",
       "    </tr>\n",
       "    <tr>\n",
       "      <th>10725868</th>\n",
       "      <td>I Love You to Death</td>\n",
       "      <td>1990</td>\n",
       "      <td>Keanu Reeves</td>\n",
       "      <td>actor</td>\n",
       "      <td>Marlon</td>\n",
       "      <td>6.0</td>\n",
       "      <td>USA</td>\n",
       "      <td>1990-04-06</td>\n",
       "    </tr>\n",
       "    <tr>\n",
       "      <th>10726800</th>\n",
       "      <td>Tune in Tomorrow...</td>\n",
       "      <td>1990</td>\n",
       "      <td>Keanu Reeves</td>\n",
       "      <td>actor</td>\n",
       "      <td>Martin Loader</td>\n",
       "      <td>2.0</td>\n",
       "      <td>USA</td>\n",
       "      <td>1990-11-02</td>\n",
       "    </tr>\n",
       "    <tr>\n",
       "      <th>10726153</th>\n",
       "      <td>Point Break</td>\n",
       "      <td>1991</td>\n",
       "      <td>Keanu Reeves</td>\n",
       "      <td>actor</td>\n",
       "      <td>Johnny Utah</td>\n",
       "      <td>2.0</td>\n",
       "      <td>USA</td>\n",
       "      <td>1991-07-12</td>\n",
       "    </tr>\n",
       "    <tr>\n",
       "      <th>10725624</th>\n",
       "      <td>Bill &amp; Ted's Bogus Journey</td>\n",
       "      <td>1991</td>\n",
       "      <td>Keanu Reeves</td>\n",
       "      <td>actor</td>\n",
       "      <td>Ted</td>\n",
       "      <td>1.0</td>\n",
       "      <td>USA</td>\n",
       "      <td>1991-07-19</td>\n",
       "    </tr>\n",
       "    <tr>\n",
       "      <th>10725765</th>\n",
       "      <td>Dracula</td>\n",
       "      <td>1992</td>\n",
       "      <td>Keanu Reeves</td>\n",
       "      <td>actor</td>\n",
       "      <td>Jonathan Harker</td>\n",
       "      <td>4.0</td>\n",
       "      <td>USA</td>\n",
       "      <td>1992-11-13</td>\n",
       "    </tr>\n",
       "    <tr>\n",
       "      <th>10725791</th>\n",
       "      <td>Even Cowgirls Get the Blues</td>\n",
       "      <td>1993</td>\n",
       "      <td>Keanu Reeves</td>\n",
       "      <td>actor</td>\n",
       "      <td>Julian Gitche</td>\n",
       "      <td>5.0</td>\n",
       "      <td>USA</td>\n",
       "      <td>1994-05-20</td>\n",
       "    </tr>\n",
       "    <tr>\n",
       "      <th>10726084</th>\n",
       "      <td>Little Buddha</td>\n",
       "      <td>1993</td>\n",
       "      <td>Keanu Reeves</td>\n",
       "      <td>actor</td>\n",
       "      <td>Siddhartha</td>\n",
       "      <td>1.0</td>\n",
       "      <td>USA</td>\n",
       "      <td>1994-05-25</td>\n",
       "    </tr>\n",
       "    <tr>\n",
       "      <th>10726222</th>\n",
       "      <td>Speed</td>\n",
       "      <td>1994</td>\n",
       "      <td>Keanu Reeves</td>\n",
       "      <td>actor</td>\n",
       "      <td>Jack Traven</td>\n",
       "      <td>1.0</td>\n",
       "      <td>USA</td>\n",
       "      <td>1994-06-10</td>\n",
       "    </tr>\n",
       "    <tr>\n",
       "      <th>10726016</th>\n",
       "      <td>Johnny Mnemonic</td>\n",
       "      <td>1995</td>\n",
       "      <td>Keanu Reeves</td>\n",
       "      <td>actor</td>\n",
       "      <td>Johnny Mnemonic</td>\n",
       "      <td>1.0</td>\n",
       "      <td>USA</td>\n",
       "      <td>1995-05-26</td>\n",
       "    </tr>\n",
       "    <tr>\n",
       "      <th>10725604</th>\n",
       "      <td>A Walk in the Clouds</td>\n",
       "      <td>1995</td>\n",
       "      <td>Keanu Reeves</td>\n",
       "      <td>actor</td>\n",
       "      <td>Paul Sutton</td>\n",
       "      <td>1.0</td>\n",
       "      <td>USA</td>\n",
       "      <td>1995-08-11</td>\n",
       "    </tr>\n",
       "    <tr>\n",
       "      <th>10725646</th>\n",
       "      <td>Chain Reaction</td>\n",
       "      <td>1996</td>\n",
       "      <td>Keanu Reeves</td>\n",
       "      <td>actor</td>\n",
       "      <td>Eddie Kasalivich</td>\n",
       "      <td>1.0</td>\n",
       "      <td>USA</td>\n",
       "      <td>1996-08-02</td>\n",
       "    </tr>\n",
       "    <tr>\n",
       "      <th>10725813</th>\n",
       "      <td>Feeling Minnesota</td>\n",
       "      <td>1996</td>\n",
       "      <td>Keanu Reeves</td>\n",
       "      <td>actor</td>\n",
       "      <td>Jjaks Clayton</td>\n",
       "      <td>1.0</td>\n",
       "      <td>USA</td>\n",
       "      <td>1996-09-13</td>\n",
       "    </tr>\n",
       "    <tr>\n",
       "      <th>10726496</th>\n",
       "      <td>The Last Time I Committed Suicide</td>\n",
       "      <td>1997</td>\n",
       "      <td>Keanu Reeves</td>\n",
       "      <td>actor</td>\n",
       "      <td>Harry</td>\n",
       "      <td>2.0</td>\n",
       "      <td>USA</td>\n",
       "      <td>1997-06-20</td>\n",
       "    </tr>\n",
       "    <tr>\n",
       "      <th>10726380</th>\n",
       "      <td>The Devil's Advocate</td>\n",
       "      <td>1997</td>\n",
       "      <td>Keanu Reeves</td>\n",
       "      <td>actor</td>\n",
       "      <td>Kevin Lomax</td>\n",
       "      <td>1.0</td>\n",
       "      <td>USA</td>\n",
       "      <td>1997-10-17</td>\n",
       "    </tr>\n",
       "    <tr>\n",
       "      <th>10726500</th>\n",
       "      <td>The Matrix</td>\n",
       "      <td>1999</td>\n",
       "      <td>Keanu Reeves</td>\n",
       "      <td>actor</td>\n",
       "      <td>Neo</td>\n",
       "      <td>1.0</td>\n",
       "      <td>USA</td>\n",
       "      <td>1999-03-31</td>\n",
       "    </tr>\n",
       "    <tr>\n",
       "      <th>10726719</th>\n",
       "      <td>The Replacements</td>\n",
       "      <td>2000</td>\n",
       "      <td>Keanu Reeves</td>\n",
       "      <td>actor</td>\n",
       "      <td>Shane Falco</td>\n",
       "      <td>1.0</td>\n",
       "      <td>USA</td>\n",
       "      <td>2000-08-11</td>\n",
       "    </tr>\n",
       "    <tr>\n",
       "      <th>10726736</th>\n",
       "      <td>The Watcher</td>\n",
       "      <td>2000</td>\n",
       "      <td>Keanu Reeves</td>\n",
       "      <td>actor</td>\n",
       "      <td>Griffin</td>\n",
       "      <td>3.0</td>\n",
       "      <td>USA</td>\n",
       "      <td>2000-09-08</td>\n",
       "    </tr>\n",
       "    <tr>\n",
       "      <th>10726417</th>\n",
       "      <td>The Gift</td>\n",
       "      <td>2000</td>\n",
       "      <td>Keanu Reeves</td>\n",
       "      <td>actor</td>\n",
       "      <td>Donnie Barksdale</td>\n",
       "      <td>3.0</td>\n",
       "      <td>USA</td>\n",
       "      <td>2001-01-19</td>\n",
       "    </tr>\n",
       "    <tr>\n",
       "      <th>10726292</th>\n",
       "      <td>Sweet November</td>\n",
       "      <td>2001</td>\n",
       "      <td>Keanu Reeves</td>\n",
       "      <td>actor</td>\n",
       "      <td>Nelson Moss</td>\n",
       "      <td>1.0</td>\n",
       "      <td>USA</td>\n",
       "      <td>2001-02-16</td>\n",
       "    </tr>\n",
       "    <tr>\n",
       "      <th>10725832</th>\n",
       "      <td>Hard Ball</td>\n",
       "      <td>2001</td>\n",
       "      <td>Keanu Reeves</td>\n",
       "      <td>actor</td>\n",
       "      <td>Conor O'Neill</td>\n",
       "      <td>1.0</td>\n",
       "      <td>USA</td>\n",
       "      <td>2001-09-14</td>\n",
       "    </tr>\n",
       "    <tr>\n",
       "      <th>10726181</th>\n",
       "      <td>Something's Gotta Give</td>\n",
       "      <td>2003</td>\n",
       "      <td>Keanu Reeves</td>\n",
       "      <td>actor</td>\n",
       "      <td>Julian Mercer</td>\n",
       "      <td>3.0</td>\n",
       "      <td>USA</td>\n",
       "      <td>2003-12-12</td>\n",
       "    </tr>\n",
       "    <tr>\n",
       "      <th>10725705</th>\n",
       "      <td>Constantine</td>\n",
       "      <td>2005</td>\n",
       "      <td>Keanu Reeves</td>\n",
       "      <td>actor</td>\n",
       "      <td>John Constantine</td>\n",
       "      <td>1.0</td>\n",
       "      <td>USA</td>\n",
       "      <td>2005-02-18</td>\n",
       "    </tr>\n",
       "    <tr>\n",
       "      <th>10726455</th>\n",
       "      <td>The Lake House</td>\n",
       "      <td>2006</td>\n",
       "      <td>Keanu Reeves</td>\n",
       "      <td>actor</td>\n",
       "      <td>Alex Wyler</td>\n",
       "      <td>1.0</td>\n",
       "      <td>USA</td>\n",
       "      <td>2006-06-16</td>\n",
       "    </tr>\n",
       "    <tr>\n",
       "      <th>10725589</th>\n",
       "      <td>A Scanner Darkly</td>\n",
       "      <td>2006</td>\n",
       "      <td>Keanu Reeves</td>\n",
       "      <td>actor</td>\n",
       "      <td>Bob Arctor</td>\n",
       "      <td>4.0</td>\n",
       "      <td>USA</td>\n",
       "      <td>2006-07-28</td>\n",
       "    </tr>\n",
       "    <tr>\n",
       "      <th>10726255</th>\n",
       "      <td>Street Kings</td>\n",
       "      <td>2008</td>\n",
       "      <td>Keanu Reeves</td>\n",
       "      <td>actor</td>\n",
       "      <td>Detective Tom Ludlow</td>\n",
       "      <td>1.0</td>\n",
       "      <td>USA</td>\n",
       "      <td>2008-04-11</td>\n",
       "    </tr>\n",
       "    <tr>\n",
       "      <th>10726368</th>\n",
       "      <td>The Day the Earth Stood Still</td>\n",
       "      <td>2008</td>\n",
       "      <td>Keanu Reeves</td>\n",
       "      <td>actor</td>\n",
       "      <td>Klaatu</td>\n",
       "      <td>1.0</td>\n",
       "      <td>USA</td>\n",
       "      <td>2008-12-12</td>\n",
       "    </tr>\n",
       "    <tr>\n",
       "      <th>10725550</th>\n",
       "      <td>47 Ronin</td>\n",
       "      <td>2013</td>\n",
       "      <td>Keanu Reeves</td>\n",
       "      <td>actor</td>\n",
       "      <td>Kai</td>\n",
       "      <td>1.0</td>\n",
       "      <td>USA</td>\n",
       "      <td>2013-12-25</td>\n",
       "    </tr>\n",
       "    <tr>\n",
       "      <th>10725890</th>\n",
       "      <td>John Wick</td>\n",
       "      <td>2014</td>\n",
       "      <td>Keanu Reeves</td>\n",
       "      <td>actor</td>\n",
       "      <td>John Wick</td>\n",
       "      <td>1.0</td>\n",
       "      <td>USA</td>\n",
       "      <td>2014-10-24</td>\n",
       "    </tr>\n",
       "    <tr>\n",
       "      <th>10726058</th>\n",
       "      <td>Knock Knock</td>\n",
       "      <td>2015</td>\n",
       "      <td>Keanu Reeves</td>\n",
       "      <td>actor</td>\n",
       "      <td>Evan</td>\n",
       "      <td>1.0</td>\n",
       "      <td>USA</td>\n",
       "      <td>2015-10-09</td>\n",
       "    </tr>\n",
       "    <tr>\n",
       "      <th>10725967</th>\n",
       "      <td>John Wick: Chapter 2</td>\n",
       "      <td>2017</td>\n",
       "      <td>Keanu Reeves</td>\n",
       "      <td>actor</td>\n",
       "      <td>John Wick</td>\n",
       "      <td>1.0</td>\n",
       "      <td>USA</td>\n",
       "      <td>2017-02-10</td>\n",
       "    </tr>\n",
       "    <tr>\n",
       "      <th>10726323</th>\n",
       "      <td>The Bad Batch</td>\n",
       "      <td>2016</td>\n",
       "      <td>Keanu Reeves</td>\n",
       "      <td>actor</td>\n",
       "      <td>The Dream</td>\n",
       "      <td>4.0</td>\n",
       "      <td>USA</td>\n",
       "      <td>2017-06-23</td>\n",
       "    </tr>\n",
       "  </tbody>\n",
       "</table>\n",
       "</div>"
      ],
      "text/plain": [
       "                                      title  year          name   type  \\\n",
       "10726175                       River's Edge  1986  Keanu Reeves  actor   \n",
       "10726692                   The Night Before  1988  Keanu Reeves  actor   \n",
       "10726152                   Permanent Record  1988  Keanu Reeves  actor   \n",
       "10725633   Bill & Ted's Excellent Adventure  1989  Keanu Reeves  actor   \n",
       "10725745                 Dangerous Liaisons  1988  Keanu Reeves  actor   \n",
       "10725868                I Love You to Death  1990  Keanu Reeves  actor   \n",
       "10726800                Tune in Tomorrow...  1990  Keanu Reeves  actor   \n",
       "10726153                        Point Break  1991  Keanu Reeves  actor   \n",
       "10725624         Bill & Ted's Bogus Journey  1991  Keanu Reeves  actor   \n",
       "10725765                            Dracula  1992  Keanu Reeves  actor   \n",
       "10725791        Even Cowgirls Get the Blues  1993  Keanu Reeves  actor   \n",
       "10726084                      Little Buddha  1993  Keanu Reeves  actor   \n",
       "10726222                              Speed  1994  Keanu Reeves  actor   \n",
       "10726016                    Johnny Mnemonic  1995  Keanu Reeves  actor   \n",
       "10725604               A Walk in the Clouds  1995  Keanu Reeves  actor   \n",
       "10725646                     Chain Reaction  1996  Keanu Reeves  actor   \n",
       "10725813                  Feeling Minnesota  1996  Keanu Reeves  actor   \n",
       "10726496  The Last Time I Committed Suicide  1997  Keanu Reeves  actor   \n",
       "10726380               The Devil's Advocate  1997  Keanu Reeves  actor   \n",
       "10726500                         The Matrix  1999  Keanu Reeves  actor   \n",
       "10726719                   The Replacements  2000  Keanu Reeves  actor   \n",
       "10726736                        The Watcher  2000  Keanu Reeves  actor   \n",
       "10726417                           The Gift  2000  Keanu Reeves  actor   \n",
       "10726292                     Sweet November  2001  Keanu Reeves  actor   \n",
       "10725832                          Hard Ball  2001  Keanu Reeves  actor   \n",
       "10726181             Something's Gotta Give  2003  Keanu Reeves  actor   \n",
       "10725705                        Constantine  2005  Keanu Reeves  actor   \n",
       "10726455                     The Lake House  2006  Keanu Reeves  actor   \n",
       "10725589                   A Scanner Darkly  2006  Keanu Reeves  actor   \n",
       "10726255                       Street Kings  2008  Keanu Reeves  actor   \n",
       "10726368      The Day the Earth Stood Still  2008  Keanu Reeves  actor   \n",
       "10725550                           47 Ronin  2013  Keanu Reeves  actor   \n",
       "10725890                          John Wick  2014  Keanu Reeves  actor   \n",
       "10726058                        Knock Knock  2015  Keanu Reeves  actor   \n",
       "10725967               John Wick: Chapter 2  2017  Keanu Reeves  actor   \n",
       "10726323                      The Bad Batch  2016  Keanu Reeves  actor   \n",
       "\n",
       "                     character    n country       date  \n",
       "10726175                  Matt  2.0     USA 1987-05-08  \n",
       "10726692      Winston Connelly  1.0     USA 1988-04-15  \n",
       "10726152        Chris Townsend  6.0     USA 1988-04-22  \n",
       "10725633                   Ted  1.0     USA 1989-02-17  \n",
       "10725745     Chevalier Danceny  5.0     USA 1989-02-24  \n",
       "10725868                Marlon  6.0     USA 1990-04-06  \n",
       "10726800         Martin Loader  2.0     USA 1990-11-02  \n",
       "10726153           Johnny Utah  2.0     USA 1991-07-12  \n",
       "10725624                   Ted  1.0     USA 1991-07-19  \n",
       "10725765       Jonathan Harker  4.0     USA 1992-11-13  \n",
       "10725791         Julian Gitche  5.0     USA 1994-05-20  \n",
       "10726084            Siddhartha  1.0     USA 1994-05-25  \n",
       "10726222           Jack Traven  1.0     USA 1994-06-10  \n",
       "10726016       Johnny Mnemonic  1.0     USA 1995-05-26  \n",
       "10725604           Paul Sutton  1.0     USA 1995-08-11  \n",
       "10725646      Eddie Kasalivich  1.0     USA 1996-08-02  \n",
       "10725813         Jjaks Clayton  1.0     USA 1996-09-13  \n",
       "10726496                 Harry  2.0     USA 1997-06-20  \n",
       "10726380           Kevin Lomax  1.0     USA 1997-10-17  \n",
       "10726500                   Neo  1.0     USA 1999-03-31  \n",
       "10726719           Shane Falco  1.0     USA 2000-08-11  \n",
       "10726736               Griffin  3.0     USA 2000-09-08  \n",
       "10726417      Donnie Barksdale  3.0     USA 2001-01-19  \n",
       "10726292           Nelson Moss  1.0     USA 2001-02-16  \n",
       "10725832         Conor O'Neill  1.0     USA 2001-09-14  \n",
       "10726181         Julian Mercer  3.0     USA 2003-12-12  \n",
       "10725705      John Constantine  1.0     USA 2005-02-18  \n",
       "10726455            Alex Wyler  1.0     USA 2006-06-16  \n",
       "10725589            Bob Arctor  4.0     USA 2006-07-28  \n",
       "10726255  Detective Tom Ludlow  1.0     USA 2008-04-11  \n",
       "10726368                Klaatu  1.0     USA 2008-12-12  \n",
       "10725550                   Kai  1.0     USA 2013-12-25  \n",
       "10725890             John Wick  1.0     USA 2014-10-24  \n",
       "10726058                  Evan  1.0     USA 2015-10-09  \n",
       "10725967             John Wick  1.0     USA 2017-02-10  \n",
       "10726323             The Dream  4.0     USA 2017-06-23  "
      ]
     },
     "execution_count": 53,
     "metadata": {},
     "output_type": "execute_result"
    }
   ],
   "source": [
    "#keanu_reeves_movie_release_usa_df = cast_rel_df[(cast_rel_df['name'] == 'Keanu Reeves') & (cast_rel_df['country'] == 'USA')]\n",
    "keanu_reeves_movie_release_usa_df = cast_rel_df[(cast_rel_df['name'] == 'Keanu Reeves') & (cast_rel_df['country'] == 'USA') & (cast_rel_df['n'] >= 1.0) & (cast_rel_df['n'] <= 6.0)]\n",
    "keanu_reeves_movie_release_usa_df = keanu_reeves_movie_release_usa_df[pd.notnull(keanu_reeves_movie_release_usa_df['n'])].sort_values(by='date')\n",
    "keanu_reeves_movie_release_usa_df"
   ]
  },
  {
   "cell_type": "markdown",
   "metadata": {},
   "source": [
    "### Section III - Q4: Make a bar plot showing the months in which movies with Keanu Reeves tend to be released in the USA?"
   ]
  },
  {
   "cell_type": "code",
   "execution_count": 54,
   "metadata": {
    "gradient": {
     "id": "567fc644-8574-4d3c-93f9-52c689eea3a8",
     "kernelId": "5cca2d0c-cc22-4544-92fb-d7aa586b99fc"
    }
   },
   "outputs": [
    {
     "data": {
      "text/plain": [
       "<AxesSubplot:xlabel='Month', ylabel='Number of movies released'>"
      ]
     },
     "execution_count": 54,
     "metadata": {},
     "output_type": "execute_result"
    },
    {
     "data": {
      "image/png": "[encoded data removed]",
      "text/plain": [
       "<Figure size 432x288 with 1 Axes>"
      ]
     },
     "metadata": {
      "needs_background": "light"
     },
     "output_type": "display_data"
    }
   ],
   "source": [
    "keanu_reeves_movie_release_usa_df['date'].dt.month.value_counts().sort_index().plot(kind='bar', xlabel='Month', ylabel='Number of movies released')"
   ]
  },
  {
   "cell_type": "markdown",
   "metadata": {},
   "source": [
    "### Section III - Q5: Make a bar plot showing the years in which movies with Ian McKellen tend to be released in the USA?"
   ]
  },
  {
   "cell_type": "code",
   "execution_count": 43,
   "metadata": {
    "gradient": {
     "id": "0aa2f634-fe20-4a63-8f28-7add1ae35cf8",
     "kernelId": "5cca2d0c-cc22-4544-92fb-d7aa586b99fc"
    }
   },
   "outputs": [
    {
     "data": {
      "text/plain": [
       "<AxesSubplot:xlabel='Year', ylabel='Number of movies released'>"
      ]
     },
     "execution_count": 43,
     "metadata": {},
     "output_type": "execute_result"
    },
    {
     "data": {
      "image/png": "[encoded data removed]",
      "text/plain": [
       "<Figure size 432x288 with 1 Axes>"
      ]
     },
     "metadata": {
      "needs_background": "light"
     },
     "output_type": "display_data"
    }
   ],
   "source": [
    "ian_movie_release_usa_df = cast_rel_df[(cast_rel_df['name'] == 'Ian McKellen') & (cast_rel_df['country'] == 'USA')]\n",
    "ian_movie_release_usa_df = ian_movie_release_usa_df.sort_values(by='date')\n",
    "ian_movie_release_usa_df['date'].dt.year.value_counts().sort_index().plot(kind='bar', xlabel='Year', ylabel='Number of movies released')"
   ]
  },
  {
   "cell_type": "code",
   "execution_count": null,
   "metadata": {},
   "outputs": [],
   "source": []
  }
 ],
 "metadata": {
  "kernelspec": {
   "display_name": "Python 3 (ipykernel)",
   "language": "python",
   "name": "python3"
  },
  "language_info": {
   "codemirror_mode": {
    "name": "ipython",
    "version": 3
   },
   "file_extension": ".py",
   "mimetype": "text/x-python",
   "name": "python",
   "nbconvert_exporter": "python",
   "pygments_lexer": "ipython3",
   "version": "3.9.7"
  }
 },
 "nbformat": 4,
 "nbformat_minor": 2
}
